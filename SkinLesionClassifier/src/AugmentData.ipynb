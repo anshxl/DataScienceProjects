{
 "cells": [
  {
   "cell_type": "code",
   "execution_count": 31,
   "metadata": {},
   "outputs": [],
   "source": [
    "import numpy as np\n",
    "import tensorflow as tf\n",
    "from tensorflow.keras.preprocessing.image import ImageDataGenerator\n",
    "import h5py\n",
    "from PIL import Image\n",
    "import io\n",
    "import pandas as pd"
   ]
  },
  {
   "cell_type": "code",
   "execution_count": 36,
   "metadata": {},
   "outputs": [],
   "source": [
    "# Load Metadata\n",
    "metadata = pd.read_csv('metadata.csv')\n",
    "hdf5_file = 'train-image.hdf5'\n",
    "\n",
    "# Separate isic_ids based on target class\n",
    "malignant_ids = metadata[metadata['target'] == 1]['isic_id'].values\n",
    "benign_ids = metadata[metadata['target'] == 0]['isic_id'].values"
   ]
  },
  {
   "cell_type": "code",
   "execution_count": 37,
   "metadata": {},
   "outputs": [],
   "source": [
    "# Image Generator for benign images\n",
    "benign_datagen = ImageDataGenerator(rescale=1./255)\n",
    "\n",
    "# Image Generator for malignant images\n",
    "malignant_datagen = ImageDataGenerator(\n",
    "    rotation_range=30,\n",
    "    width_shift_range=0.1,\n",
    "    height_shift_range=0.1,\n",
    "    fill_mode='nearest',\n",
    "    rescale=1./255\n",
    ")\n",
    "\n",
    "# Function to load and preprocess image (resizing and standardization)\n",
    "def byte_string_to_resized_image_array(byte_string, target_size=(128, 128)):\n",
    "    image_bytes = io.BytesIO(byte_string)\n",
    "    image = Image.open(image_bytes)\n",
    "    image = image.resize(target_size)\n",
    "    image_array = np.array(image).astype(np.float32)  # Convert to float for TensorFlow\n",
    "    return image_array\n",
    "\n",
    "# Function to extract image data from HDF5 file and return it in array format\n",
    "def load_image_from_hdf5(isic_id, hdf5_file):\n",
    "    with h5py.File(hdf5_file, 'r') as f:\n",
    "        byte_string = f[isic_id][()]\n",
    "        image_array = byte_string_to_resized_image_array(byte_string)\n",
    "    return image_array"
   ]
  },
  {
   "cell_type": "code",
   "execution_count": 38,
   "metadata": {},
   "outputs": [],
   "source": [
    "def data_generator(metadata, benign_ids, malignant_ids, hdf5_file, batch_size=32, target_size=(128, 128), malignant_augment_limit=4000):\n",
    "    benign_count = 0\n",
    "    malignant_count = 0\n",
    "    \n",
    "    while True:\n",
    "        images = []\n",
    "        labels = []\n",
    "        \n",
    "        for index, row in metadata.iterrows():\n",
    "            isic_id = row['isic_id']\n",
    "            target = row['target']  # Binary label\n",
    "            \n",
    "            # Load image based on isic_id\n",
    "            image_array = load_image_from_hdf5(isic_id, hdf5_file)\n",
    "            \n",
    "            # Apply augmentation for malignant cases\n",
    "            if isic_id in malignant_ids:\n",
    "                if malignant_count < malignant_augment_limit:  # Augment only until the limit is reached\n",
    "                    augmented_image = malignant_datagen.random_transform(image_array)  # Augmentation\n",
    "                    images.append(augmented_image)\n",
    "                    labels.append(1)  # Malignant label\n",
    "                    malignant_count += 1  # Keep track of augmented malignant samples\n",
    "                else:\n",
    "                    # After reaching the limit, continue but don't augment malignant images\n",
    "                    standardized_image = malignant_datagen.standardize(image_array)  # Just standardize after the limit\n",
    "                    images.append(standardized_image)\n",
    "                    labels.append(1)  # Still malignant label\n",
    "\n",
    "            # Process benign cases without augmentation\n",
    "            elif isic_id in benign_ids:\n",
    "                benign_image = benign_datagen.standardize(image_array)  # Standardize without augmentation\n",
    "                images.append(benign_image)\n",
    "                labels.append(0)  # Benign label\n",
    "                benign_count += 1\n",
    "            \n",
    "            # Yield the batch when enough samples are collected\n",
    "            if len(images) == batch_size:\n",
    "                print(f\"Benign samples processed: {benign_count}, Malignant samples augmented: {malignant_count}\")\n",
    "                yield np.array(images), np.array(labels)\n",
    "                images = []  # Reset for the next batch\n",
    "                labels = []\n",
    "        \n",
    "        # Optional: print the final counts of benign and malignant samples processed\n",
    "        print(f\"Total Benign samples processed: {benign_count}, Malignant samples augmented: {malignant_count}\")\n"
   ]
  },
  {
   "cell_type": "code",
   "execution_count": 39,
   "metadata": {},
   "outputs": [
    {
     "name": "stdout",
     "output_type": "stream",
     "text": [
      "Benign samples processed: 32, Malignant samples augmented: 0\n",
      "Batch 1 - Image shape: (32, 128, 128, 3), Labels shape: (32,)\n",
      "Benign samples processed: 64, Malignant samples augmented: 0\n",
      "Batch 2 - Image shape: (32, 128, 128, 3), Labels shape: (32,)\n",
      "Benign samples processed: 96, Malignant samples augmented: 0\n",
      "Batch 3 - Image shape: (32, 128, 128, 3), Labels shape: (32,)\n"
     ]
    }
   ],
   "source": [
    "metadata_subset = metadata.head(1000)  # Load the first 1000 rows\n",
    "generator = data_generator(metadata_subset, benign_ids, malignant_ids, hdf5_file, batch_size=32)\n",
    "\n",
    "# Test a few iterations\n",
    "for i in range(3):\n",
    "    images, labels = next(generator)\n",
    "    print(f\"Batch {i+1} - Image shape: {images.shape}, Labels shape: {labels.shape}\")\n"
   ]
  }
 ],
 "metadata": {
  "kernelspec": {
   "display_name": "tf",
   "language": "python",
   "name": "python3"
  },
  "language_info": {
   "codemirror_mode": {
    "name": "ipython",
    "version": 3
   },
   "file_extension": ".py",
   "mimetype": "text/x-python",
   "name": "python",
   "nbconvert_exporter": "python",
   "pygments_lexer": "ipython3",
   "version": "3.11.5"
  }
 },
 "nbformat": 4,
 "nbformat_minor": 2
}
