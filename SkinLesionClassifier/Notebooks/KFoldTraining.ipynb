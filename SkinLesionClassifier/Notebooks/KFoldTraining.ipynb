{
 "cells": [
  {
   "cell_type": "code",
   "execution_count": 1,
   "metadata": {},
   "outputs": [],
   "source": [
    "import pandas as pd\n",
    "import numpy as np\n",
    "import tensorflow as tf\n",
    "from tqdm.notebook import tqdm"
   ]
  },
  {
   "cell_type": "code",
   "execution_count": 2,
   "metadata": {},
   "outputs": [],
   "source": [
    "# Configs\n",
    "BASE_PATH = '/Users/AnshulSrivastava/Desktop/Fall24/CMSE 492/Project/isic-2024-challenge/'\n",
    "RANDOM_SEED = 42\n",
    "N_FOLDS = 5\n",
    "maj_frac = 0.1\n",
    "min_frac = 10"
   ]
  },
  {
   "cell_type": "code",
   "execution_count": 3,
   "metadata": {},
   "outputs": [],
   "source": [
    "# set random seed\n",
    "np.random.seed(RANDOM_SEED)\n",
    "tf.random.set_seed(RANDOM_SEED)"
   ]
  },
  {
   "cell_type": "code",
   "execution_count": 4,
   "metadata": {},
   "outputs": [
    {
     "name": "stdout",
     "output_type": "stream",
     "text": [
      "GPU not available :(\n",
      "/CPU:0\n"
     ]
    }
   ],
   "source": [
    "# Check if GPU is available\n",
    "print(\"GPU\", \"available (YES!)\" if tf.config.list_physical_devices('GPU') else \"not available :(\")\n",
    "\n",
    "# If GPU is available, use it\n",
    "if tf.config.list_physical_devices('GPU'):\n",
    "    device = '/GPU:0'\n",
    "else:\n",
    "    device = '/CPU:0'\n",
    "\n",
    "print(device)"
   ]
  },
  {
   "cell_type": "code",
   "execution_count": 5,
   "metadata": {},
   "outputs": [],
   "source": [
    "# Load the data\n",
    "train_metadata = pd.read_csv(f'{BASE_PATH}/train_processed.csv')"
   ]
  },
  {
   "cell_type": "code",
   "execution_count": 6,
   "metadata": {},
   "outputs": [],
   "source": [
    "# Sample the data to have a balanced dataset\n",
    "maj_class = train_metadata[train_metadata['target'] == 0]\n",
    "min_class = train_metadata[train_metadata['target'] == 1]\n",
    "\n",
    "maj_class_sample = maj_class.sample(frac=maj_frac, random_state=RANDOM_SEED)\n",
    "min_class_sample = min_class.sample(frac=min_frac, random_state=RANDOM_SEED, replace=True)\n",
    "\n",
    "train_metadata_sample = pd.concat([maj_class_sample,\n",
    "                                      min_class_sample]).sample(frac=1, random_state=RANDOM_SEED)"
   ]
  },
  {
   "cell_type": "code",
   "execution_count": 7,
   "metadata": {},
   "outputs": [
    {
     "name": "stdout",
     "output_type": "stream",
     "text": [
      "Class Weights: {0: 0.5490428532208551, 1: 5.597582697201018}\n"
     ]
    }
   ],
   "source": [
    "# Add class weights\n",
    "from sklearn.utils.class_weight import compute_class_weight\n",
    "\n",
    "class_weights = compute_class_weight('balanced', classes=np.unique(train_metadata_sample['target']), \n",
    "                                     y=train_metadata_sample['target'])\n",
    "class_weights = dict(enumerate(class_weights))\n",
    "print(\"Class Weights:\", class_weights)"
   ]
  },
  {
   "cell_type": "code",
   "execution_count": 8,
   "metadata": {},
   "outputs": [],
   "source": [
    "# Visualize first image\n",
    "from PIL import Image\n",
    "import matplotlib.pyplot as plt\n",
    "import h5py\n",
    "import io\n",
    "\n",
    "train_val_img = h5py.File(f'{BASE_PATH}/train-image.hdf5', 'r')\n",
    "test_img = h5py.File(f'{BASE_PATH}/test-image.hdf5', 'r')"
   ]
  },
  {
   "cell_type": "code",
   "execution_count": 9,
   "metadata": {},
   "outputs": [],
   "source": [
    "# Define the Data Generator\n",
    "import random\n",
    "from tensorflow.keras.preprocessing.image import ImageDataGenerator\n",
    "from tensorflow.keras.applications.mobilenet_v2 import preprocess_input\n",
    "import os\n",
    "\n",
    "class TrainDataLoader:\n",
    "    def __init__(self, hdf5_file, metadata_df, benign_indices, malignant_indices, batch_size=32, augment=False):\n",
    "        self.hdf5_file = hdf5_file\n",
    "        self.metadata_df = metadata_df.reset_index(drop=True)\n",
    "        self.benign_indices = list(benign_indices)\n",
    "        self.malignant_indices = list(malignant_indices)\n",
    "        self.batch_size = batch_size\n",
    "        self.augment = augment\n",
    "        \n",
    "        if self.augment:\n",
    "            # Define a more complex augmentation pipeline\n",
    "            self.augmenter = ImageDataGenerator(\n",
    "                rotation_range=30,\n",
    "                width_shift_range=0.1,\n",
    "                height_shift_range=0.1,\n",
    "                shear_range=0.1,\n",
    "                zoom_range=0.1,\n",
    "                horizontal_flip=True,\n",
    "                vertical_flip=True,\n",
    "                fill_mode='nearest',\n",
    "                brightness_range=[0.8, 1.2],\n",
    "                preprocessing_function=self.add_gaussian_noise,\n",
    "                )\n",
    "        else:\n",
    "            self.augmenter = None  # No augmentation during validation\n",
    "\n",
    "    def __len__(self):\n",
    "        # Calculate the number of batches per epoch\n",
    "        return int(np.floor(len(self.benign_indices) / (self.batch_size // 2)))\n",
    "\n",
    "    def __getitem__(self, idx):\n",
    "        half_batch_size = self.batch_size // 2\n",
    "\n",
    "        # Sample indices\n",
    "        benign_sampled_indices = random.sample(self.benign_indices, half_batch_size)\n",
    "        malignant_sampled_indices = random.choices(self.malignant_indices, k=half_batch_size)\n",
    "\n",
    "        images = []\n",
    "        labels = []\n",
    "        #isic_ids = []\n",
    "\n",
    "        # Load benign images\n",
    "        for idx in benign_sampled_indices:\n",
    "            isic_id = self.metadata_df.iloc[idx]['isic_id']\n",
    "            img = self.load_image(isic_id)\n",
    "            if self.augmenter:\n",
    "                img = self.augmenter.random_transform(img)\n",
    "            images.append(img)\n",
    "            labels.append(0)\n",
    "            #isic_ids.append(isic_id)\n",
    "\n",
    "        # Load and augment malignant images\n",
    "        for idx in malignant_sampled_indices:\n",
    "            isic_id = self.metadata_df.iloc[idx]['isic_id']\n",
    "            img = self.load_image(isic_id)\n",
    "            if self.augmenter:\n",
    "                img = self.augmenter.random_transform(img)\n",
    "            images.append(img)\n",
    "            labels.append(1)\n",
    "            #isic_ids.append(isic_id)\n",
    "\n",
    "        # Shuffle the batch\n",
    "        combined = list(zip(images, labels))\n",
    "        random.shuffle(combined)\n",
    "        images, labels = zip(*combined)\n",
    "        \n",
    "        # Convert to arrays\n",
    "        images = np.array(images)\n",
    "        labels = np.array(labels)\n",
    "        #isic_ids = np.array(isic_ids)\n",
    "\n",
    "        return images, labels\n",
    "\n",
    "    def load_image(self, isic_id):\n",
    "        # Retrieve image from HDF5 and preprocess\n",
    "        byte_string = self.hdf5_file[isic_id][()]\n",
    "        nparr = np.frombuffer(byte_string, np.uint8)\n",
    "        img = Image.open(io.BytesIO(nparr))\n",
    "        img = img.resize((128, 128))\n",
    "        img = preprocess_input(np.array(img))\n",
    "        return img\n",
    "        \n",
    "    def add_gaussian_noise(self, img):\n",
    "        mean = 0.0  # Mean of Gaussian noise\n",
    "        stddev = 0.1  # Standard deviation of Gaussian noise\n",
    "        noise = np.random.normal(mean, stddev, img.shape)  # Generate noise\n",
    "        img = img + noise  # Add noise to the image\n",
    "        img = np.clip(img, 0., 1.)  # Clip to ensure values remain in [0, 1] range\n",
    "        return img\n",
    "\n",
    "    def on_epoch_end(self):\n",
    "        # Optionally shuffle indices\n",
    "        random.shuffle(self.benign_indices)\n",
    "        random.shuffle(self.malignant_indices)\n",
    "\n",
    "class ValidationDataLoader:\n",
    "    def __init__(self, hdf5_file, metadata_df, batch_size=32, min_positive_samples=5):\n",
    "        self.hdf5_file = hdf5_file\n",
    "        self.metadata_df = metadata_df.reset_index(drop=True)\n",
    "        self.batch_size = batch_size\n",
    "        self.benign_indices = metadata_df[metadata_df['target'] == 0].index.tolist()\n",
    "        self.malignant_indices = metadata_df[metadata_df['target'] == 1].index.tolist()\n",
    "        self.min_positive_samples = min_positive_samples\n",
    "\n",
    "    def __len__(self):\n",
    "        return len(self.metadata_df) // self.batch_size\n",
    "\n",
    "    def __getitem__(self, idx):\n",
    "        actual_batch_size = min(self.batch_size, len(self.metadata_df) - idx * self.batch_size)\n",
    "        # Skip this batch if it's not complete\n",
    "        if actual_batch_size < self.batch_size:\n",
    "            raise StopIteration(\"Incomplete batch skipped\")\n",
    "\n",
    "        # Calculate the proportion of positive samples in the dataset\n",
    "        positive_ratio = len(self.malignant_indices) / len(self.metadata_df)\n",
    "\n",
    "        # Calculate the number of positive samples for this batch\n",
    "        num_positive_samples = max(self.min_positive_samples, int(actual_batch_size * positive_ratio))\n",
    "        num_positive_samples = min(num_positive_samples, len(self.malignant_indices))  # Ensure it doesn't exceed available positives\n",
    "\n",
    "        # Calculate the remaining samples as negative\n",
    "        num_negative_samples = actual_batch_size - num_positive_samples\n",
    "        num_negative_samples = min(num_negative_samples, len(self.benign_indices))  # Ensure it doesn't exceed available negatives\n",
    "\n",
    "        # Sample indices\n",
    "        positive_sample_indices = random.sample(self.malignant_indices, num_positive_samples)\n",
    "        negative_sample_indices = random.sample(self.benign_indices, num_negative_samples)\n",
    "\n",
    "        # Combine and shuffle\n",
    "        batch_indices = positive_sample_indices + negative_sample_indices\n",
    "        random.shuffle(batch_indices)\n",
    "        \n",
    "        images, labels = [], []\n",
    "\n",
    "        for index in batch_indices:\n",
    "            isic_id = self.metadata_df.iloc[index]['isic_id']\n",
    "            img = self.load_image(isic_id)\n",
    "            label = self.metadata_df.iloc[index]['target']\n",
    "            images.append(img)\n",
    "            labels.append(label)\n",
    "\n",
    "        # Convert to numpy arrays\n",
    "        images = np.array(images)\n",
    "        labels = np.array(labels)\n",
    "\n",
    "        return images, labels\n",
    "\n",
    "    def load_image(self, isic_id):\n",
    "        byte_string = self.hdf5_file[isic_id][()]\n",
    "        nparr = np.frombuffer(byte_string, np.uint8)\n",
    "        img = Image.open(io.BytesIO(nparr))\n",
    "        img = img.resize((128, 128))\n",
    "        img = preprocess_input(np.array(img))\n",
    "        return img\n",
    "    \n",
    "    def on_epoch_end(self):\n",
    "        # Shuffle benign and malignant indices after each epoch\n",
    "        random.shuffle(self.benign_indices)\n",
    "        random.shuffle(self.malignant_indices)\n",
    "\n",
    "class TestDataLoader:\n",
    "    def __init__(self, hdf5_file, metadata_df, batch_size=32):\n",
    "        self.hdf5_file = hdf5_file\n",
    "        self.metadata_df = metadata_df.reset_index(drop=True)\n",
    "        self.batch_size = batch_size\n",
    "\n",
    "    def __len__(self):\n",
    "        # Number of full batches\n",
    "        return (len(self.metadata_df) + self.batch_size - 1) // self.batch_size\n",
    "\n",
    "    def __getitem__(self, idx):\n",
    "        start_idx = idx * self.batch_size\n",
    "        end_idx = start_idx + self.batch_size\n",
    "        # If the end index exceeds the data length, adjust it for the last batch\n",
    "        batch_indices = range(start_idx, min(end_idx, len(self.metadata_df)))\n",
    "        \n",
    "        images = []\n",
    "        for index in batch_indices:\n",
    "            isic_id = self.metadata_df.iloc[index]['isic_id']\n",
    "            img = self.load_image(isic_id)\n",
    "            images.append(img)\n",
    "\n",
    "        return np.array(images)\n",
    "\n",
    "    def load_image(self, isic_id):\n",
    "        byte_string = self.hdf5_file[isic_id][()]\n",
    "        nparr = np.frombuffer(byte_string, np.uint8)\n",
    "        img = Image.open(io.BytesIO(nparr))\n",
    "        img = img.resize((128, 128))\n",
    "        img = preprocess_input(np.array(img))\n",
    "        return img\n",
    "\n",
    "    def __iter__(self):\n",
    "        for i in range(len(self)):\n",
    "            yield self[i]"
   ]
  },
  {
   "cell_type": "code",
   "execution_count": 10,
   "metadata": {},
   "outputs": [],
   "source": [
    "# Define custom metric\n",
    "from sklearn.metrics import roc_auc_score\n",
    "\n",
    "def partial_auc_metric(y_true, y_pred):\n",
    "    def compute_partial_auc(y_true, y_pred):\n",
    "        # Convert tensors to numpy arrays\n",
    "        y_true_np = y_true.numpy()\n",
    "        y_pred_np = y_pred.numpy()\n",
    "\n",
    "        # Compute partial AUC as per your custom function\n",
    "        min_tpr = 0.80\n",
    "        max_fpr = abs(1 - min_tpr)\n",
    "        \n",
    "        v_gt = abs(y_true_np - 1)\n",
    "        v_pred = np.array([1.0 - x for x in y_pred_np])\n",
    "        \n",
    "        partial_auc_scaled = roc_auc_score(v_gt, v_pred, max_fpr=max_fpr)\n",
    "        partial_auc = 0.5 * max_fpr**2 + (max_fpr - 0.5 * max_fpr**2) / (1.0 - 0.5) * (partial_auc_scaled - 0.5)\n",
    "        \n",
    "        return partial_auc\n",
    "\n",
    "    # Wrap the custom Python function with tf.py_function\n",
    "    result = tf.py_function(func=compute_partial_auc, inp=[y_true, y_pred], Tout=tf.float32)\n",
    "    \n",
    "    return result\n",
    "\n",
    "# Define function to set learning rate schedule\n",
    "def get_lr_scheduler(initial_learning_rate, steps_per_epoch, epochs_per_restart):\n",
    "    # Calculate the first decay steps\n",
    "    first_decay_steps = steps_per_epoch * epochs_per_restart\n",
    "    \n",
    "    # Define the learning rate scheduler\n",
    "    lr_schedule = tf.keras.optimizers.schedules.CosineDecayRestarts(\n",
    "        initial_learning_rate=initial_learning_rate,\n",
    "        first_decay_steps=first_decay_steps,\n",
    "        t_mul=2.0,   # Increases decay steps after each restart (e.g., 5, 10, 20 epochs)\n",
    "        m_mul=1.0,   # Keeps max learning rate constant at each restart\n",
    "        alpha=0.0    # Minimum learning rate as a fraction of initial rate\n",
    "    )\n",
    "    \n",
    "    return lr_schedule"
   ]
  },
  {
   "cell_type": "code",
   "execution_count": 11,
   "metadata": {},
   "outputs": [],
   "source": [
    "# Define the model\n",
    "from tensorflow.keras.applications import mobilenet_v2\n",
    "from tensorflow.keras.layers import Dense, GlobalAveragePooling2D, Dropout\n",
    "from tensorflow.keras import models, layers\n",
    "\n",
    "def build_model():\n",
    "    # Load the pre-trained model\n",
    "    base_model = mobilenet_v2.MobileNetV2(input_shape=(128, 128, 3), include_top=False, weights='imagenet')\n",
    "\n",
    "    # Freeze the base model\n",
    "    base_model.trainable = False\n",
    "\n",
    "    # Start building your custom model\n",
    "    model = models.Sequential()\n",
    "\n",
    "    # Add the EfficientNetB0 as the base\n",
    "    model.add(base_model)\n",
    "\n",
    "    # Add a global average pooling layer to reduce dimensionality\n",
    "    model.add(layers.GlobalAveragePooling2D())\n",
    "\n",
    "    # Add a dense layer with ReLU activation\n",
    "    model.add(layers.Dense(512, activation='relu', kernel_initializer='he_normal'))\n",
    "    model.add(layers.BatchNormalization())\n",
    "    model.add(layers.Dropout(0.4))  # Dropout for regularization\n",
    "\n",
    "    # Another dense layer for more learning capacity\n",
    "    model.add(layers.Dense(256, activation='relu', kernel_initializer='he_normal'))\n",
    "    model.add(layers.BatchNormalization())\n",
    "    model.add(layers.Dropout(0.5))\n",
    "\n",
    "    # Final output layer for binary classification (sigmoid activation for binary classification)\n",
    "    model.add(layers.Dense(1, activation='sigmoid'))\n",
    "\n",
    "    return model"
   ]
  },
  {
   "cell_type": "code",
   "execution_count": 12,
   "metadata": {},
   "outputs": [],
   "source": [
    "# Perform Stratified K-Fold\n",
    "from sklearn.model_selection import StratifiedGroupKFold\n",
    "\n",
    "def stratified_group_k_fold(train_metadata_sample, N_FOLDS, RANDOM_SEED, f):\n",
    "\n",
    "    train_metadata_sample = train_metadata_sample.reset_index(drop=True)\n",
    "    train_metadata_sample['kfold'] = -1\n",
    "\n",
    "    sgkf = StratifiedGroupKFold(n_splits=N_FOLDS, random_state=RANDOM_SEED, shuffle=True)\n",
    "\n",
    "    for fold, (train_idx, val_idx) in enumerate(sgkf.split(X=train_metadata_sample, y=train_metadata_sample['target'], \n",
    "                                                        groups=train_metadata_sample['patient_id'])):\n",
    "        train_metadata_sample.loc[val_idx, 'kfold'] = fold\n",
    "\n",
    "    training_df = train_metadata_sample[train_metadata_sample['kfold'] != f]\n",
    "    validation_df = train_metadata_sample[train_metadata_sample['kfold'] == f]\n",
    "\n",
    "    training_df = training_df.reset_index(drop=True)\n",
    "    validation_df = validation_df.reset_index(drop=True)\n",
    "\n",
    "    return training_df, validation_df"
   ]
  },
  {
   "cell_type": "code",
   "execution_count": 13,
   "metadata": {},
   "outputs": [],
   "source": [
    "# Define training histories\n",
    "fold1_histories = {'accuracy': [], 'val_accuracy': [], 'partial_auc_metric': [], 'val_partial_auc_metric': []}\n",
    "fold2_histories = {'accuracy': [], 'val_accuracy': [], 'partial_auc_metric': [], 'val_partial_auc_metric': []}\n",
    "fold3_histories = {'accuracy': [], 'val_accuracy': [], 'partial_auc_metric': [], 'val_partial_auc_metric': []}\n",
    "fold4_histories = {'accuracy': [], 'val_accuracy': [], 'partial_auc_metric': [], 'val_partial_auc_metric': []}\n",
    "fold5_histories = {'accuracy': [], 'val_accuracy': [], 'partial_auc_metric': [], 'val_partial_auc_metric': []}"
   ]
  },
  {
   "cell_type": "markdown",
   "metadata": {},
   "source": [
    "# Phase 1 (OOF for fold 0)"
   ]
  },
  {
   "cell_type": "code",
   "execution_count": 14,
   "metadata": {},
   "outputs": [
    {
     "name": "stdout",
     "output_type": "stream",
     "text": [
      "Class Distribution in Training Data:\n"
     ]
    },
    {
     "data": {
      "text/plain": [
       "target\n",
       "0    30039\n",
       "1     3071\n",
       "Name: count, dtype: int64"
      ]
     },
     "metadata": {},
     "output_type": "display_data"
    },
    {
     "name": "stdout",
     "output_type": "stream",
     "text": [
      "Class Distribution in Validation Data:\n"
     ]
    },
    {
     "data": {
      "text/plain": [
       "target\n",
       "0    10028\n",
       "1      859\n",
       "Name: count, dtype: int64"
      ]
     },
     "metadata": {},
     "output_type": "display_data"
    }
   ],
   "source": [
    "# Perform K-Fold, Setting f=0\n",
    "f = 0\n",
    "training_df, validation_df = stratified_group_k_fold(train_metadata_sample, N_FOLDS, RANDOM_SEED, f)\n",
    "\n",
    "# Class Distribution in Training and Validation Data\n",
    "print('Class Distribution in Training Data:')\n",
    "display(training_df['target'].value_counts())\n",
    "\n",
    "print('Class Distribution in Validation Data:')\n",
    "display(validation_df['target'].value_counts())"
   ]
  },
  {
   "cell_type": "code",
   "execution_count": 15,
   "metadata": {},
   "outputs": [],
   "source": [
    "# Define the data loaders\n",
    "train_loader = TrainDataLoader(train_val_img, training_df, training_df[training_df['target'] == 0].index, \n",
    "                                training_df[training_df['target'] == 1].index, batch_size=32, augment=True)\n",
    "\n",
    "val_loader = ValidationDataLoader(train_val_img, validation_df, batch_size=32, min_positive_samples=5)\n",
    "\n",
    "# Define training and validation datasets\n",
    "train_dataset = tf.data.Dataset.from_generator(\n",
    "    lambda: train_loader,\n",
    "    output_signature=(\n",
    "        tf.TensorSpec(shape=(32, 128, 128, 3), dtype=tf.float32),  # Adjust shape based on batch size and image size\n",
    "        tf.TensorSpec(shape=(32,), dtype=tf.int32)\n",
    "    )\n",
    ")\n",
    "\n",
    "# Repeat for validation loader\n",
    "val_dataset = tf.data.Dataset.from_generator(\n",
    "    lambda: val_loader,\n",
    "    output_signature=(\n",
    "        tf.TensorSpec(shape=(32, 128, 128, 3), dtype=tf.float32),\n",
    "        tf.TensorSpec(shape=(32,), dtype=tf.int32)\n",
    "    )\n",
    ")"
   ]
  },
  {
   "cell_type": "code",
   "execution_count": 16,
   "metadata": {},
   "outputs": [],
   "source": [
    "tf.keras.backend.clear_session()\n",
    "\n",
    "# Build the model\n",
    "model = build_model()\n",
    "\n",
    "# Define Learning Rate Scheduler\n",
    "initial_learning_rate = 1e-3\n",
    "steps_per_epoch = len(train_loader)  # Total number of batches in the training set\n",
    "\n",
    "lr_schedule = get_lr_scheduler(initial_learning_rate, steps_per_epoch, epochs_per_restart=5)\n",
    "optimizer = tf.keras.optimizers.legacy.Adam(learning_rate=lr_schedule)\n",
    "\n",
    "# Define Callbacks\n",
    "from tensorflow.keras.callbacks import ModelCheckpoint, EarlyStopping\n",
    "\n",
    "# Define the checkpoint callback\n",
    "checkpoint_callback = ModelCheckpoint(\n",
    "    filepath='Fold1/checkpoints/model_{epoch:02d}.h5',  # Save a new file for each epoch\n",
    "    save_weights_only=False,      # Save the entire model\n",
    "    save_best_only=True,        # Save only the best model\n",
    "    monitor='val_partial_auc_metric',  # Use the custom validation AUC metric\n",
    "    mode='max',                 # Maximizing the AUC\n",
    "    verbose=0\n",
    ")\n",
    "\n",
    "# Define the early stopping callback based on validation partial AUC\n",
    "early_stopping_callback = EarlyStopping(\n",
    "    monitor='val_partial_auc_metric',  # Monitor the custom validation AUC metric\n",
    "    patience=5,                        # Number of epochs with no improvement before stopping\n",
    "    mode='max',                        # Maximize the AUC\n",
    "    min_delta=0.001,                   # Minimum change in the monitored quantity\n",
    "    restore_best_weights=True,         # Restore the best weights after stopping\n",
    "    verbose=1\n",
    ")\n",
    "\n",
    "# Compile the model\n",
    "model.compile(\n",
    "    optimizer=optimizer,\n",
    "    loss='binary_crossentropy',\n",
    "    metrics=['accuracy', partial_auc_metric]\n",
    ")\n",
    "\n",
    "# Define callbacks\n",
    "callbacks = [checkpoint_callback, early_stopping_callback]"
   ]
  },
  {
   "cell_type": "code",
   "execution_count": 17,
   "metadata": {},
   "outputs": [
    {
     "name": "stdout",
     "output_type": "stream",
     "text": [
      "Epoch 1/30\n"
     ]
    },
    {
     "name": "stderr",
     "output_type": "stream",
     "text": [
      "2024-11-11 13:18:45.609568: I tensorflow/core/common_runtime/executor.cc:1197] [/device:CPU:0] (DEBUG INFO) Executor start aborting (this does not indicate an error and you can ignore this message): INVALID_ARGUMENT: You must feed a value for placeholder tensor 'Placeholder/_0' with dtype int32\n",
      "\t [[{{node Placeholder/_0}}]]\n",
      "2024-11-11 13:18:45.622059: W tensorflow/tsl/platform/profile_utils/cpu_utils.cc:128] Failed to get CPU frequency: 0 Hz\n"
     ]
    },
    {
     "name": "stdout",
     "output_type": "stream",
     "text": [
      "1877/1877 [==============================] - ETA: 0s - loss: 0.4348 - accuracy: 0.8028 - partial_auc_metric: 0.1280"
     ]
    },
    {
     "name": "stderr",
     "output_type": "stream",
     "text": [
      "2024-11-11 13:22:53.735946: I tensorflow/core/common_runtime/executor.cc:1197] [/device:CPU:0] (DEBUG INFO) Executor start aborting (this does not indicate an error and you can ignore this message): INVALID_ARGUMENT: You must feed a value for placeholder tensor 'Placeholder/_0' with dtype int32\n",
      "\t [[{{node Placeholder/_0}}]]\n"
     ]
    },
    {
     "name": "stdout",
     "output_type": "stream",
     "text": [
      "1877/1877 [==============================] - 281s 149ms/step - loss: 0.4348 - accuracy: 0.8028 - partial_auc_metric: 0.1280 - val_loss: 0.3749 - val_accuracy: 0.8267 - val_partial_auc_metric: 0.1176\n",
      "Epoch 2/30\n",
      "1877/1877 [==============================] - 276s 147ms/step - loss: 0.3481 - accuracy: 0.8466 - partial_auc_metric: 0.1488 - val_loss: 0.3623 - val_accuracy: 0.8473 - val_partial_auc_metric: 0.1094\n",
      "Epoch 3/30\n",
      "1877/1877 [==============================] - 269s 143ms/step - loss: 0.3144 - accuracy: 0.8645 - partial_auc_metric: 0.1578 - val_loss: 0.3759 - val_accuracy: 0.8400 - val_partial_auc_metric: 0.1178\n",
      "Epoch 4/30\n",
      "1877/1877 [==============================] - 281s 150ms/step - loss: 0.2784 - accuracy: 0.8819 - partial_auc_metric: 0.1654 - val_loss: 0.3835 - val_accuracy: 0.8461 - val_partial_auc_metric: 0.1166\n",
      "Epoch 5/30\n",
      "1877/1877 [==============================] - 278s 148ms/step - loss: 0.2624 - accuracy: 0.8906 - partial_auc_metric: 0.1688 - val_loss: 0.3915 - val_accuracy: 0.8578 - val_partial_auc_metric: 0.1169\n",
      "Epoch 6/30\n",
      "1877/1877 [==============================] - ETA: 0s - loss: 0.3103 - accuracy: 0.8667 - partial_auc_metric: 0.1587Restoring model weights from the end of the best epoch: 1.\n",
      "1877/1877 [==============================] - 287s 153ms/step - loss: 0.3103 - accuracy: 0.8667 - partial_auc_metric: 0.1587 - val_loss: 0.3577 - val_accuracy: 0.8696 - val_partial_auc_metric: 0.1178\n",
      "Epoch 6: early stopping\n"
     ]
    }
   ],
   "source": [
    "# Train the model\n",
    "history1 = model.fit(\n",
    "    train_dataset,\n",
    "    validation_data=val_dataset,\n",
    "    epochs=30,\n",
    "    steps_per_epoch=len(train_loader),\n",
    "    validation_steps=len(val_loader),\n",
    "    callbacks=callbacks\n",
    "    )"
   ]
  },
  {
   "cell_type": "code",
   "execution_count": 18,
   "metadata": {},
   "outputs": [],
   "source": [
    "# Save the training history\n",
    "for key in fold1_histories.keys():\n",
    "    fold1_histories[key].extend(history1.history[key])"
   ]
  },
  {
   "cell_type": "code",
   "execution_count": 22,
   "metadata": {},
   "outputs": [
    {
     "name": "stdout",
     "output_type": "stream",
     "text": [
      "Model: \"sequential\"\n",
      "_________________________________________________________________\n",
      " Layer (type)                Output Shape              Param #   \n",
      "=================================================================\n",
      " mobilenetv2_1.00_128 (Funct  (None, 4, 4, 1280)       2257984   \n",
      " ional)                                                          \n",
      "                                                                 \n",
      " global_average_pooling2d (G  (None, 1280)             0         \n",
      " lobalAveragePooling2D)                                          \n",
      "                                                                 \n",
      " dense (Dense)               (None, 512)               655872    \n",
      "                                                                 \n",
      " batch_normalization (BatchN  (None, 512)              2048      \n",
      " ormalization)                                                   \n",
      "                                                                 \n",
      " dropout (Dropout)           (None, 512)               0         \n",
      "                                                                 \n",
      " dense_1 (Dense)             (None, 256)               131328    \n",
      "                                                                 \n",
      " batch_normalization_1 (Batc  (None, 256)              1024      \n",
      " hNormalization)                                                 \n",
      "                                                                 \n",
      " dropout_1 (Dropout)         (None, 256)               0         \n",
      "                                                                 \n",
      " dense_2 (Dense)             (None, 1)                 257       \n",
      "                                                                 \n",
      "=================================================================\n",
      "Total params: 3,048,513\n",
      "Trainable params: 788,993\n",
      "Non-trainable params: 2,259,520\n",
      "_________________________________________________________________\n"
     ]
    }
   ],
   "source": [
    "from tensorflow.keras.regularizers import l2\n",
    "\n",
    "# Set the number of layers to unfreeze\n",
    "num_layers_to_unfreeze = 30\n",
    "\n",
    "# Get the total number of layers in the base model\n",
    "total_layers = len(model.layers[0].layers)\n",
    "\n",
    "# Unfreeze the last `num_layers_to_unfreeze` layers of the EfficientNet base model\n",
    "for layer in model.layers[0].layers[-num_layers_to_unfreeze:]:\n",
    "    layer.trainable = True\n",
    "    if hasattr(layer, 'kernel_regularizer'):\n",
    "        layer.kernel_regularizer = l2(1e-4)\n",
    "\n",
    "# Updated Learning Rate Scheduler for Fine-Tuning\n",
    "initial_learning_rate = 5e-5  # Lower than the initial phase\n",
    "epochs_per_restart = 5  # Shorter restart cycle\n",
    "\n",
    "lr_schedule = get_lr_scheduler(initial_learning_rate, steps_per_epoch, epochs_per_restart)\n",
    "optimizer = tf.keras.optimizers.legacy.Adam(learning_rate=lr_schedule)\n",
    "\n",
    "# Define the checkpoint callback\n",
    "checkpoint_callback = ModelCheckpoint(\n",
    "    filepath='Fold1/model_{epoch:02d}.h5',  # Save a new file for each epoch\n",
    "    save_weights_only=False,      # Save the entire model\n",
    "    save_best_only=True,        # Save only the best model\n",
    "    monitor='val_partial_auc_metric',  # Use the custom validation AUC metric\n",
    "    mode='max',                 # Maximizing the AUC\n",
    "    verbose=0\n",
    ")\n",
    "\n",
    "# Define callbacks\n",
    "callbacks = [checkpoint_callback, early_stopping_callback]\n",
    "\n",
    "# Compile the model again with a lower learning rate for fine-tuning\n",
    "model.compile(optimizer=optimizer, \n",
    "              loss='binary_crossentropy',\n",
    "              metrics=['accuracy', partial_auc_metric])\n",
    "\n",
    "# Print a summary to verify which layers are trainable\n",
    "model.summary()"
   ]
  },
  {
   "cell_type": "code",
   "execution_count": 23,
   "metadata": {},
   "outputs": [
    {
     "name": "stdout",
     "output_type": "stream",
     "text": [
      "Epoch 2/30\n"
     ]
    },
    {
     "name": "stdout",
     "output_type": "stream",
     "text": [
      "1877/1877 [==============================] - 286s 151ms/step - loss: 0.4159 - accuracy: 0.8076 - partial_auc_metric: 0.1295 - val_loss: 0.3592 - val_accuracy: 0.8319 - val_partial_auc_metric: 0.1258\n",
      "Epoch 3/30\n",
      "1877/1877 [==============================] - 280s 149ms/step - loss: 0.3936 - accuracy: 0.8211 - partial_auc_metric: 0.1359 - val_loss: 0.3509 - val_accuracy: 0.8432 - val_partial_auc_metric: 0.1270\n",
      "Epoch 4/30\n",
      "1877/1877 [==============================] - 276s 147ms/step - loss: 0.3806 - accuracy: 0.8287 - partial_auc_metric: 0.1394 - val_loss: 0.3422 - val_accuracy: 0.8381 - val_partial_auc_metric: 0.1303\n",
      "Epoch 5/30\n",
      "1877/1877 [==============================] - 289s 154ms/step - loss: 0.3739 - accuracy: 0.8313 - partial_auc_metric: 0.1414 - val_loss: 0.3493 - val_accuracy: 0.8497 - val_partial_auc_metric: 0.1247\n",
      "Epoch 6/30\n",
      "1877/1877 [==============================] - 292s 155ms/step - loss: 0.3717 - accuracy: 0.8321 - partial_auc_metric: 0.1415 - val_loss: 0.3594 - val_accuracy: 0.8403 - val_partial_auc_metric: 0.1246\n",
      "Epoch 7/30\n",
      "1877/1877 [==============================] - 273s 145ms/step - loss: 0.3623 - accuracy: 0.8393 - partial_auc_metric: 0.1445 - val_loss: 0.3470 - val_accuracy: 0.8519 - val_partial_auc_metric: 0.1243\n",
      "Epoch 8/30\n",
      "1877/1877 [==============================] - 286s 152ms/step - loss: 0.3545 - accuracy: 0.8432 - partial_auc_metric: 0.1470 - val_loss: 0.3591 - val_accuracy: 0.8335 - val_partial_auc_metric: 0.1237\n",
      "Epoch 9/30\n",
      "1877/1877 [==============================] - ETA: 0s - loss: 0.3379 - accuracy: 0.8515 - partial_auc_metric: 0.1514Restoring model weights from the end of the best epoch: 4.\n",
      "1877/1877 [==============================] - 269s 143ms/step - loss: 0.3379 - accuracy: 0.8515 - partial_auc_metric: 0.1514 - val_loss: 0.3626 - val_accuracy: 0.8383 - val_partial_auc_metric: 0.1232\n",
      "Epoch 9: early stopping\n"
     ]
    }
   ],
   "source": [
    "# Train the model\n",
    "history2 = model.fit(\n",
    "    train_dataset,\n",
    "    validation_data=val_dataset,\n",
    "    epochs=30,\n",
    "    initial_epoch=1,  # Start from the early stopping epoch\n",
    "    steps_per_epoch=len(train_loader),\n",
    "    validation_steps=len(val_loader),\n",
    "    callbacks=callbacks\n",
    "    )"
   ]
  },
  {
   "cell_type": "code",
   "execution_count": 24,
   "metadata": {},
   "outputs": [],
   "source": [
    "# Save the training history\n",
    "for key in fold1_histories.keys():\n",
    "    fold1_histories[key].extend(history2.history[key])"
   ]
  },
  {
   "cell_type": "code",
   "execution_count": 28,
   "metadata": {},
   "outputs": [
    {
     "name": "stdout",
     "output_type": "stream",
     "text": [
      "Model: \"sequential\"\n",
      "_________________________________________________________________\n",
      " Layer (type)                Output Shape              Param #   \n",
      "=================================================================\n",
      " mobilenetv2_1.00_128 (Funct  (None, 4, 4, 1280)       2257984   \n",
      " ional)                                                          \n",
      "                                                                 \n",
      " global_average_pooling2d (G  (None, 1280)             0         \n",
      " lobalAveragePooling2D)                                          \n",
      "                                                                 \n",
      " dense (Dense)               (None, 512)               655872    \n",
      "                                                                 \n",
      " batch_normalization (BatchN  (None, 512)              2048      \n",
      " ormalization)                                                   \n",
      "                                                                 \n",
      " dropout (Dropout)           (None, 512)               0         \n",
      "                                                                 \n",
      " dense_1 (Dense)             (None, 256)               131328    \n",
      "                                                                 \n",
      " batch_normalization_1 (Batc  (None, 256)              1024      \n",
      " hNormalization)                                                 \n",
      "                                                                 \n",
      " dropout_1 (Dropout)         (None, 256)               0         \n",
      "                                                                 \n",
      " dense_2 (Dense)             (None, 1)                 257       \n",
      "                                                                 \n",
      "=================================================================\n",
      "Total params: 3,048,513\n",
      "Trainable params: 788,993\n",
      "Non-trainable params: 2,259,520\n",
      "_________________________________________________________________\n"
     ]
    }
   ],
   "source": [
    "# Update learning rate and scheduler\n",
    "initial_learning_rate = 1e-5  # Reduced learning rate\n",
    "epochs_per_restart = 3        # Shorter restart cycle for fine-tuning\n",
    "lr_schedule = get_lr_scheduler(initial_learning_rate, steps_per_epoch, epochs_per_restart)\n",
    "\n",
    "# Update optimizer with new learning rate\n",
    "optimizer = tf.keras.optimizers.legacy.Adam(learning_rate=lr_schedule)\n",
    "\n",
    "# Unfreeze additional layers\n",
    "for layer in model.layers[0].layers[-50:]:  # Unfreeze 50 more layers as an example\n",
    "    layer.trainable = True\n",
    "    if hasattr(layer, 'kernel_regularizer'):\n",
    "        layer.kernel_regularizer = l2(1e-4)\n",
    "\n",
    "# Compile and fit the model for Phase 3\n",
    "model.compile(optimizer=optimizer, loss='binary_crossentropy', metrics=['accuracy', partial_auc_metric])\n",
    "\n",
    "model.summary()"
   ]
  },
  {
   "cell_type": "code",
   "execution_count": 30,
   "metadata": {},
   "outputs": [
    {
     "name": "stdout",
     "output_type": "stream",
     "text": [
      "Epoch 5/30\n",
      "1877/1877 [==============================] - 300s 159ms/step - loss: 0.4371 - accuracy: 0.7959 - partial_auc_metric: 0.1235 - val_loss: 0.3749 - val_accuracy: 0.8233 - val_partial_auc_metric: 0.1271\n",
      "Epoch 6/30\n",
      "1877/1877 [==============================] - 268s 143ms/step - loss: 0.4395 - accuracy: 0.7966 - partial_auc_metric: 0.1236 - val_loss: 0.3696 - val_accuracy: 0.8283 - val_partial_auc_metric: 0.1310\n",
      "Epoch 7/30\n",
      "1877/1877 [==============================] - 279s 149ms/step - loss: 0.4302 - accuracy: 0.8004 - partial_auc_metric: 0.1255 - val_loss: 0.3744 - val_accuracy: 0.8284 - val_partial_auc_metric: 0.1291\n",
      "Epoch 8/30\n",
      "1877/1877 [==============================] - 275s 146ms/step - loss: 0.4331 - accuracy: 0.7991 - partial_auc_metric: 0.1251 - val_loss: 0.3780 - val_accuracy: 0.8257 - val_partial_auc_metric: 0.1254\n",
      "Epoch 9/30\n",
      "1877/1877 [==============================] - 272s 145ms/step - loss: 0.4214 - accuracy: 0.8076 - partial_auc_metric: 0.1283 - val_loss: 0.3730 - val_accuracy: 0.8258 - val_partial_auc_metric: 0.1293\n",
      "Epoch 10/30\n",
      "1877/1877 [==============================] - 278s 148ms/step - loss: 0.4234 - accuracy: 0.8047 - partial_auc_metric: 0.1268 - val_loss: 0.3540 - val_accuracy: 0.8372 - val_partial_auc_metric: 0.1336\n",
      "Epoch 11/30\n",
      "1877/1877 [==============================] - 280s 149ms/step - loss: 0.4200 - accuracy: 0.8068 - partial_auc_metric: 0.1286 - val_loss: 0.3595 - val_accuracy: 0.8328 - val_partial_auc_metric: 0.1349\n",
      "Epoch 12/30\n",
      "1877/1877 [==============================] - 275s 147ms/step - loss: 0.4152 - accuracy: 0.8100 - partial_auc_metric: 0.1296 - val_loss: 0.3733 - val_accuracy: 0.8285 - val_partial_auc_metric: 0.1262\n",
      "Epoch 13/30\n",
      "1877/1877 [==============================] - 289s 154ms/step - loss: 0.4165 - accuracy: 0.8073 - partial_auc_metric: 0.1295 - val_loss: 0.3658 - val_accuracy: 0.8359 - val_partial_auc_metric: 0.1264\n",
      "Epoch 14/30\n",
      "1877/1877 [==============================] - 266s 142ms/step - loss: 0.4144 - accuracy: 0.8117 - partial_auc_metric: 0.1304 - val_loss: 0.3555 - val_accuracy: 0.8358 - val_partial_auc_metric: 0.1336\n",
      "Epoch 15/30\n",
      "1877/1877 [==============================] - 263s 140ms/step - loss: 0.4097 - accuracy: 0.8120 - partial_auc_metric: 0.1319 - val_loss: 0.3673 - val_accuracy: 0.8303 - val_partial_auc_metric: 0.1276\n",
      "Epoch 16/30\n",
      "1877/1877 [==============================] - ETA: 0s - loss: 0.4064 - accuracy: 0.8116 - partial_auc_metric: 0.1329Restoring model weights from the end of the best epoch: 11.\n",
      "1877/1877 [==============================] - 269s 143ms/step - loss: 0.4064 - accuracy: 0.8116 - partial_auc_metric: 0.1329 - val_loss: 0.3717 - val_accuracy: 0.8276 - val_partial_auc_metric: 0.1277\n",
      "Epoch 16: early stopping\n"
     ]
    }
   ],
   "source": [
    "# Train the model\n",
    "history3 = model.fit(\n",
    "    train_dataset,\n",
    "    validation_data=val_dataset,\n",
    "    epochs=30,\n",
    "    initial_epoch=4,  # Start from the early stopping epoch\n",
    "    steps_per_epoch=len(train_loader),\n",
    "    validation_steps=len(val_loader),\n",
    "    callbacks=callbacks\n",
    "    )"
   ]
  },
  {
   "cell_type": "code",
   "execution_count": 31,
   "metadata": {},
   "outputs": [],
   "source": [
    "# Save the training history\n",
    "for key in fold1_histories.keys():\n",
    "    fold1_histories[key].extend(history3.history[key])"
   ]
  },
  {
   "cell_type": "code",
   "execution_count": 15,
   "metadata": {},
   "outputs": [
    {
     "name": "stdout",
     "output_type": "stream",
     "text": [
      "WARNING:tensorflow:Error in loading the saved optimizer state. As a result, your model is starting with a freshly initialized optimizer.\n"
     ]
    }
   ],
   "source": [
    "# Load the best model\n",
    "model = tf.keras.models.load_model('Fold1/model_11.h5', custom_objects={'partial_auc_metric': partial_auc_metric})"
   ]
  },
  {
   "cell_type": "code",
   "execution_count": 16,
   "metadata": {},
   "outputs": [
    {
     "data": {
      "application/vnd.jupyter.widget-view+json": {
       "model_id": "f6a157cca0874ff9b250abe0a8ed9677",
       "version_major": 2,
       "version_minor": 0
      },
      "text/plain": [
       "Predicting:   0%|          | 0/341 [00:00<?, ?it/s]"
      ]
     },
     "metadata": {},
     "output_type": "display_data"
    },
    {
     "name": "stderr",
     "output_type": "stream",
     "text": [
      "2024-11-22 22:18:59.774565: I tensorflow/core/common_runtime/executor.cc:1197] [/device:CPU:0] (DEBUG INFO) Executor start aborting (this does not indicate an error and you can ignore this message): INVALID_ARGUMENT: You must feed a value for placeholder tensor 'Placeholder/_0' with dtype int32\n",
      "\t [[{{node Placeholder/_0}}]]\n",
      "2024-11-22 22:18:59.830565: W tensorflow/tsl/platform/profile_utils/cpu_utils.cc:128] Failed to get CPU frequency: 0 Hz\n"
     ]
    },
    {
     "name": "stdout",
     "output_type": "stream",
     "text": [
      "Partial AUC: 0.1193\n"
     ]
    }
   ],
   "source": [
    "# Make predictions on the validation set\n",
    "test_loader = TestDataLoader(train_val_img, validation_df, batch_size=32)\n",
    "\n",
    "test_dataset = tf.data.Dataset.from_generator(\n",
    "    lambda: test_loader,\n",
    "    output_signature=(\n",
    "        tf.TensorSpec(shape=(None, 128, 128, 3), dtype=tf.float32)\n",
    "    )\n",
    ")\n",
    "\n",
    "# Estimate the number of batches in the test dataset\n",
    "num_batches = len(test_loader)\n",
    "\n",
    "# Wrap the predictions call with tqdm\n",
    "predictions = []\n",
    "for batch in tqdm(test_dataset, total=num_batches, desc=\"Predicting\"):\n",
    "    batch_preds = model.predict(batch, verbose=0)\n",
    "    predictions.append(batch_preds)\n",
    "\n",
    "# Convert predictions to a single numpy array\n",
    "predictions = np.concatenate(predictions, axis=0)\n",
    "\n",
    "# Calculate the partial AUC\n",
    "partial_auc = partial_auc_metric(validation_df['target'].values, predictions)\n",
    "print(f\"Partial AUC: {partial_auc:.4f}\")"
   ]
  },
  {
   "cell_type": "code",
   "execution_count": 17,
   "metadata": {},
   "outputs": [
    {
     "data": {
      "text/plain": [
       "(10887, 10887)"
      ]
     },
     "execution_count": 17,
     "metadata": {},
     "output_type": "execute_result"
    }
   ],
   "source": [
    "len(predictions), len(validation_df)"
   ]
  },
  {
   "cell_type": "code",
   "execution_count": 18,
   "metadata": {},
   "outputs": [
    {
     "data": {
      "text/html": [
       "<div>\n",
       "<style scoped>\n",
       "    .dataframe tbody tr th:only-of-type {\n",
       "        vertical-align: middle;\n",
       "    }\n",
       "\n",
       "    .dataframe tbody tr th {\n",
       "        vertical-align: top;\n",
       "    }\n",
       "\n",
       "    .dataframe thead th {\n",
       "        text-align: right;\n",
       "    }\n",
       "</style>\n",
       "<table border=\"1\" class=\"dataframe\">\n",
       "  <thead>\n",
       "    <tr style=\"text-align: right;\">\n",
       "      <th></th>\n",
       "      <th>age_approx</th>\n",
       "      <th>clin_size_long_diam_mm</th>\n",
       "      <th>tbp_lv_A</th>\n",
       "      <th>tbp_lv_Aext</th>\n",
       "      <th>tbp_lv_B</th>\n",
       "      <th>tbp_lv_Bext</th>\n",
       "      <th>tbp_lv_C</th>\n",
       "      <th>tbp_lv_Cext</th>\n",
       "      <th>tbp_lv_H</th>\n",
       "      <th>tbp_lv_Hext</th>\n",
       "      <th>...</th>\n",
       "      <th>age_normalized_nevi_confidence</th>\n",
       "      <th>age_size_symmetry_index</th>\n",
       "      <th>sex</th>\n",
       "      <th>tbp_lv_location_simple</th>\n",
       "      <th>age_group</th>\n",
       "      <th>target</th>\n",
       "      <th>isic_id</th>\n",
       "      <th>patient_id</th>\n",
       "      <th>kfold</th>\n",
       "      <th>cnn_confidence</th>\n",
       "    </tr>\n",
       "  </thead>\n",
       "  <tbody>\n",
       "    <tr>\n",
       "      <th>0</th>\n",
       "      <td>1.254779</td>\n",
       "      <td>0.905974</td>\n",
       "      <td>0.562333</td>\n",
       "      <td>0.910276</td>\n",
       "      <td>-0.281847</td>\n",
       "      <td>0.284267</td>\n",
       "      <td>0.004251</td>\n",
       "      <td>0.537202</td>\n",
       "      <td>-0.783614</td>\n",
       "      <td>-0.665606</td>\n",
       "      <td>...</td>\n",
       "      <td>1.042408</td>\n",
       "      <td>0.504156</td>\n",
       "      <td>1.0</td>\n",
       "      <td>0.0</td>\n",
       "      <td>61-80</td>\n",
       "      <td>0</td>\n",
       "      <td>ISIC_6220904</td>\n",
       "      <td>IP_3880252</td>\n",
       "      <td>0</td>\n",
       "      <td>0.395216</td>\n",
       "    </tr>\n",
       "    <tr>\n",
       "      <th>1</th>\n",
       "      <td>-0.589910</td>\n",
       "      <td>-0.350433</td>\n",
       "      <td>1.566156</td>\n",
       "      <td>2.279424</td>\n",
       "      <td>0.340960</td>\n",
       "      <td>0.615726</td>\n",
       "      <td>0.898681</td>\n",
       "      <td>1.366684</td>\n",
       "      <td>-1.041400</td>\n",
       "      <td>-1.550664</td>\n",
       "      <td>...</td>\n",
       "      <td>-0.916549</td>\n",
       "      <td>0.061051</td>\n",
       "      <td>0.0</td>\n",
       "      <td>3.0</td>\n",
       "      <td>41-60</td>\n",
       "      <td>0</td>\n",
       "      <td>ISIC_2270975</td>\n",
       "      <td>IP_0135517</td>\n",
       "      <td>0</td>\n",
       "      <td>0.249643</td>\n",
       "    </tr>\n",
       "    <tr>\n",
       "      <th>2</th>\n",
       "      <td>0.885841</td>\n",
       "      <td>-0.344696</td>\n",
       "      <td>0.110793</td>\n",
       "      <td>-0.597977</td>\n",
       "      <td>-0.901145</td>\n",
       "      <td>-0.204862</td>\n",
       "      <td>-0.637133</td>\n",
       "      <td>-0.402175</td>\n",
       "      <td>-1.015832</td>\n",
       "      <td>0.492111</td>\n",
       "      <td>...</td>\n",
       "      <td>-1.044561</td>\n",
       "      <td>-0.311085</td>\n",
       "      <td>0.0</td>\n",
       "      <td>2.0</td>\n",
       "      <td>61-80</td>\n",
       "      <td>0</td>\n",
       "      <td>ISIC_8157026</td>\n",
       "      <td>IP_5539318</td>\n",
       "      <td>0</td>\n",
       "      <td>0.385468</td>\n",
       "    </tr>\n",
       "    <tr>\n",
       "      <th>3</th>\n",
       "      <td>1.254779</td>\n",
       "      <td>0.045422</td>\n",
       "      <td>0.475691</td>\n",
       "      <td>1.550990</td>\n",
       "      <td>-0.439982</td>\n",
       "      <td>0.240216</td>\n",
       "      <td>-0.146872</td>\n",
       "      <td>0.768206</td>\n",
       "      <td>-0.864987</td>\n",
       "      <td>-1.256011</td>\n",
       "      <td>...</td>\n",
       "      <td>-0.715823</td>\n",
       "      <td>0.060116</td>\n",
       "      <td>0.0</td>\n",
       "      <td>5.0</td>\n",
       "      <td>61-80</td>\n",
       "      <td>0</td>\n",
       "      <td>ISIC_7402614</td>\n",
       "      <td>IP_3173681</td>\n",
       "      <td>0</td>\n",
       "      <td>0.347088</td>\n",
       "    </tr>\n",
       "    <tr>\n",
       "      <th>4</th>\n",
       "      <td>0.147966</td>\n",
       "      <td>-0.184059</td>\n",
       "      <td>0.921479</td>\n",
       "      <td>1.220664</td>\n",
       "      <td>-0.001505</td>\n",
       "      <td>-0.119206</td>\n",
       "      <td>0.364486</td>\n",
       "      <td>0.356386</td>\n",
       "      <td>-0.828903</td>\n",
       "      <td>-1.258059</td>\n",
       "      <td>...</td>\n",
       "      <td>-6.082812</td>\n",
       "      <td>0.007810</td>\n",
       "      <td>1.0</td>\n",
       "      <td>6.0</td>\n",
       "      <td>41-60</td>\n",
       "      <td>0</td>\n",
       "      <td>ISIC_4222163</td>\n",
       "      <td>IP_3162799</td>\n",
       "      <td>0</td>\n",
       "      <td>0.073136</td>\n",
       "    </tr>\n",
       "    <tr>\n",
       "      <th>...</th>\n",
       "      <td>...</td>\n",
       "      <td>...</td>\n",
       "      <td>...</td>\n",
       "      <td>...</td>\n",
       "      <td>...</td>\n",
       "      <td>...</td>\n",
       "      <td>...</td>\n",
       "      <td>...</td>\n",
       "      <td>...</td>\n",
       "      <td>...</td>\n",
       "      <td>...</td>\n",
       "      <td>...</td>\n",
       "      <td>...</td>\n",
       "      <td>...</td>\n",
       "      <td>...</td>\n",
       "      <td>...</td>\n",
       "      <td>...</td>\n",
       "      <td>...</td>\n",
       "      <td>...</td>\n",
       "      <td>...</td>\n",
       "      <td>...</td>\n",
       "    </tr>\n",
       "    <tr>\n",
       "      <th>10882</th>\n",
       "      <td>-1.327786</td>\n",
       "      <td>-0.683180</td>\n",
       "      <td>-0.069561</td>\n",
       "      <td>-0.331840</td>\n",
       "      <td>0.027925</td>\n",
       "      <td>-0.000441</td>\n",
       "      <td>-0.035228</td>\n",
       "      <td>-0.145333</td>\n",
       "      <td>0.114466</td>\n",
       "      <td>0.344817</td>\n",
       "      <td>...</td>\n",
       "      <td>0.369870</td>\n",
       "      <td>-0.582268</td>\n",
       "      <td>0.0</td>\n",
       "      <td>1.0</td>\n",
       "      <td>21-40</td>\n",
       "      <td>0</td>\n",
       "      <td>ISIC_4726843</td>\n",
       "      <td>IP_0963996</td>\n",
       "      <td>0</td>\n",
       "      <td>0.110470</td>\n",
       "    </tr>\n",
       "    <tr>\n",
       "      <th>10883</th>\n",
       "      <td>0.885841</td>\n",
       "      <td>-0.654494</td>\n",
       "      <td>0.347803</td>\n",
       "      <td>0.268260</td>\n",
       "      <td>0.511008</td>\n",
       "      <td>0.199116</td>\n",
       "      <td>0.498511</td>\n",
       "      <td>0.226232</td>\n",
       "      <td>0.136552</td>\n",
       "      <td>-0.125384</td>\n",
       "      <td>...</td>\n",
       "      <td>-1.048299</td>\n",
       "      <td>-0.049324</td>\n",
       "      <td>0.0</td>\n",
       "      <td>6.0</td>\n",
       "      <td>61-80</td>\n",
       "      <td>0</td>\n",
       "      <td>ISIC_4296990</td>\n",
       "      <td>IP_5539318</td>\n",
       "      <td>0</td>\n",
       "      <td>0.033826</td>\n",
       "    </tr>\n",
       "    <tr>\n",
       "      <th>10884</th>\n",
       "      <td>-2.434599</td>\n",
       "      <td>-0.281588</td>\n",
       "      <td>-2.085426</td>\n",
       "      <td>-1.664039</td>\n",
       "      <td>-0.077894</td>\n",
       "      <td>-0.937262</td>\n",
       "      <td>-0.803250</td>\n",
       "      <td>-1.340697</td>\n",
       "      <td>2.298611</td>\n",
       "      <td>1.293531</td>\n",
       "      <td>...</td>\n",
       "      <td>0.381429</td>\n",
       "      <td>-0.175984</td>\n",
       "      <td>0.0</td>\n",
       "      <td>3.0</td>\n",
       "      <td>21-40</td>\n",
       "      <td>0</td>\n",
       "      <td>ISIC_4527856</td>\n",
       "      <td>IP_8442778</td>\n",
       "      <td>0</td>\n",
       "      <td>0.006125</td>\n",
       "    </tr>\n",
       "    <tr>\n",
       "      <th>10885</th>\n",
       "      <td>0.885841</td>\n",
       "      <td>-0.338959</td>\n",
       "      <td>-0.735868</td>\n",
       "      <td>-0.698789</td>\n",
       "      <td>1.130238</td>\n",
       "      <td>1.091071</td>\n",
       "      <td>0.606542</td>\n",
       "      <td>0.669671</td>\n",
       "      <td>1.613139</td>\n",
       "      <td>1.353063</td>\n",
       "      <td>...</td>\n",
       "      <td>-0.925473</td>\n",
       "      <td>-0.532504</td>\n",
       "      <td>1.0</td>\n",
       "      <td>4.0</td>\n",
       "      <td>61-80</td>\n",
       "      <td>0</td>\n",
       "      <td>ISIC_8851400</td>\n",
       "      <td>IP_0321326</td>\n",
       "      <td>0</td>\n",
       "      <td>0.015427</td>\n",
       "    </tr>\n",
       "    <tr>\n",
       "      <th>10886</th>\n",
       "      <td>1.254779</td>\n",
       "      <td>0.745338</td>\n",
       "      <td>-0.257922</td>\n",
       "      <td>0.252760</td>\n",
       "      <td>-0.066142</td>\n",
       "      <td>0.415495</td>\n",
       "      <td>-0.181591</td>\n",
       "      <td>0.395956</td>\n",
       "      <td>0.217933</td>\n",
       "      <td>0.038302</td>\n",
       "      <td>...</td>\n",
       "      <td>-0.740035</td>\n",
       "      <td>-0.779754</td>\n",
       "      <td>0.0</td>\n",
       "      <td>2.0</td>\n",
       "      <td>61-80</td>\n",
       "      <td>0</td>\n",
       "      <td>ISIC_8592033</td>\n",
       "      <td>IP_3173681</td>\n",
       "      <td>0</td>\n",
       "      <td>0.794542</td>\n",
       "    </tr>\n",
       "  </tbody>\n",
       "</table>\n",
       "<p>10887 rows × 50 columns</p>\n",
       "</div>"
      ],
      "text/plain": [
       "       age_approx  clin_size_long_diam_mm  tbp_lv_A  tbp_lv_Aext  tbp_lv_B  \\\n",
       "0        1.254779                0.905974  0.562333     0.910276 -0.281847   \n",
       "1       -0.589910               -0.350433  1.566156     2.279424  0.340960   \n",
       "2        0.885841               -0.344696  0.110793    -0.597977 -0.901145   \n",
       "3        1.254779                0.045422  0.475691     1.550990 -0.439982   \n",
       "4        0.147966               -0.184059  0.921479     1.220664 -0.001505   \n",
       "...           ...                     ...       ...          ...       ...   \n",
       "10882   -1.327786               -0.683180 -0.069561    -0.331840  0.027925   \n",
       "10883    0.885841               -0.654494  0.347803     0.268260  0.511008   \n",
       "10884   -2.434599               -0.281588 -2.085426    -1.664039 -0.077894   \n",
       "10885    0.885841               -0.338959 -0.735868    -0.698789  1.130238   \n",
       "10886    1.254779                0.745338 -0.257922     0.252760 -0.066142   \n",
       "\n",
       "       tbp_lv_Bext  tbp_lv_C  tbp_lv_Cext  tbp_lv_H  tbp_lv_Hext  ...  \\\n",
       "0         0.284267  0.004251     0.537202 -0.783614    -0.665606  ...   \n",
       "1         0.615726  0.898681     1.366684 -1.041400    -1.550664  ...   \n",
       "2        -0.204862 -0.637133    -0.402175 -1.015832     0.492111  ...   \n",
       "3         0.240216 -0.146872     0.768206 -0.864987    -1.256011  ...   \n",
       "4        -0.119206  0.364486     0.356386 -0.828903    -1.258059  ...   \n",
       "...            ...       ...          ...       ...          ...  ...   \n",
       "10882    -0.000441 -0.035228    -0.145333  0.114466     0.344817  ...   \n",
       "10883     0.199116  0.498511     0.226232  0.136552    -0.125384  ...   \n",
       "10884    -0.937262 -0.803250    -1.340697  2.298611     1.293531  ...   \n",
       "10885     1.091071  0.606542     0.669671  1.613139     1.353063  ...   \n",
       "10886     0.415495 -0.181591     0.395956  0.217933     0.038302  ...   \n",
       "\n",
       "       age_normalized_nevi_confidence  age_size_symmetry_index  sex  \\\n",
       "0                            1.042408                 0.504156  1.0   \n",
       "1                           -0.916549                 0.061051  0.0   \n",
       "2                           -1.044561                -0.311085  0.0   \n",
       "3                           -0.715823                 0.060116  0.0   \n",
       "4                           -6.082812                 0.007810  1.0   \n",
       "...                               ...                      ...  ...   \n",
       "10882                        0.369870                -0.582268  0.0   \n",
       "10883                       -1.048299                -0.049324  0.0   \n",
       "10884                        0.381429                -0.175984  0.0   \n",
       "10885                       -0.925473                -0.532504  1.0   \n",
       "10886                       -0.740035                -0.779754  0.0   \n",
       "\n",
       "       tbp_lv_location_simple  age_group  target       isic_id  patient_id  \\\n",
       "0                         0.0      61-80       0  ISIC_6220904  IP_3880252   \n",
       "1                         3.0      41-60       0  ISIC_2270975  IP_0135517   \n",
       "2                         2.0      61-80       0  ISIC_8157026  IP_5539318   \n",
       "3                         5.0      61-80       0  ISIC_7402614  IP_3173681   \n",
       "4                         6.0      41-60       0  ISIC_4222163  IP_3162799   \n",
       "...                       ...        ...     ...           ...         ...   \n",
       "10882                     1.0      21-40       0  ISIC_4726843  IP_0963996   \n",
       "10883                     6.0      61-80       0  ISIC_4296990  IP_5539318   \n",
       "10884                     3.0      21-40       0  ISIC_4527856  IP_8442778   \n",
       "10885                     4.0      61-80       0  ISIC_8851400  IP_0321326   \n",
       "10886                     2.0      61-80       0  ISIC_8592033  IP_3173681   \n",
       "\n",
       "       kfold  cnn_confidence  \n",
       "0          0        0.395216  \n",
       "1          0        0.249643  \n",
       "2          0        0.385468  \n",
       "3          0        0.347088  \n",
       "4          0        0.073136  \n",
       "...      ...             ...  \n",
       "10882      0        0.110470  \n",
       "10883      0        0.033826  \n",
       "10884      0        0.006125  \n",
       "10885      0        0.015427  \n",
       "10886      0        0.794542  \n",
       "\n",
       "[10887 rows x 50 columns]"
      ]
     },
     "execution_count": 18,
     "metadata": {},
     "output_type": "execute_result"
    }
   ],
   "source": [
    "# Add predictions to the validation DataFrame\n",
    "validation_df['cnn_confidence'] = predictions\n",
    "validation_df"
   ]
  },
  {
   "cell_type": "code",
   "execution_count": 99,
   "metadata": {},
   "outputs": [
    {
     "data": {
      "text/plain": [
       "(6, 8, 12)"
      ]
     },
     "execution_count": 99,
     "metadata": {},
     "output_type": "execute_result"
    }
   ],
   "source": [
    "len(history1.history['accuracy']), len(history2.history['accuracy']), len(history3.history['accuracy'])"
   ]
  },
  {
   "cell_type": "code",
   "execution_count": 103,
   "metadata": {},
   "outputs": [
    {
     "data": {
      "image/png": "[encoded data removed]",
      "text/plain": [
       "<Figure size 1400x600 with 2 Axes>"
      ]
     },
     "metadata": {},
     "output_type": "display_data"
    }
   ],
   "source": [
    "# Plot the training history\n",
    "plt.figure(figsize=(14, 6))\n",
    "\n",
    "plt.subplot(1, 2, 1)\n",
    "plt.plot(fold1_histories['accuracy'], label='accuracy')\n",
    "plt.plot(fold1_histories['val_accuracy'], label='val_accuracy')\n",
    "plt.vlines([6, 14], 0.5, 1, colors='r', linestyles='dashed', label='Unfreeze Layers')\n",
    "\n",
    "plt.title('Training and Validation Accuracy')\n",
    "plt.xlabel('Epoch')\n",
    "plt.ylabel('Accuracy')\n",
    "plt.legend()\n",
    "\n",
    "plt.subplot(1, 2, 2)\n",
    "plt.plot(fold1_histories['partial_auc_metric'], label='partial_auc_metric')\n",
    "plt.plot(fold1_histories['val_partial_auc_metric'], label='val_partial_auc_metric')\n",
    "plt.vlines([6, 14], 0.1, 0.2, colors='r', linestyles='dashed', label='Unfreeze Layers')\n",
    "plt.title('Training and Validation Partial AUC')\n",
    "plt.xlabel('Epoch')\n",
    "plt.ylabel('Partial AUC')\n",
    "plt.legend()\n",
    "\n",
    "plt.tight_layout()\n",
    "plt.savefig('Fold1/training_history.png')"
   ]
  },
  {
   "cell_type": "markdown",
   "metadata": {},
   "source": [
    "# Phase 2 (KFold 1)"
   ]
  },
  {
   "cell_type": "code",
   "execution_count": 19,
   "metadata": {},
   "outputs": [
    {
     "name": "stdout",
     "output_type": "stream",
     "text": [
      "Class Distribution in Training Data:\n"
     ]
    },
    {
     "data": {
      "text/plain": [
       "target\n",
       "0    33159\n",
       "1     3360\n",
       "Name: count, dtype: int64"
      ]
     },
     "metadata": {},
     "output_type": "display_data"
    },
    {
     "name": "stdout",
     "output_type": "stream",
     "text": [
      "Class Distribution in Validation Data:\n"
     ]
    },
    {
     "data": {
      "text/plain": [
       "target\n",
       "0    6908\n",
       "1     570\n",
       "Name: count, dtype: int64"
      ]
     },
     "metadata": {},
     "output_type": "display_data"
    }
   ],
   "source": [
    "# Perform K-Fold, Setting f=0\n",
    "f = 1\n",
    "training_df2, validation_df2 = stratified_group_k_fold(train_metadata_sample, N_FOLDS, RANDOM_SEED, f)\n",
    "\n",
    "# Class Distribution in Training and Validation Data\n",
    "print('Class Distribution in Training Data:')\n",
    "display(training_df2['target'].value_counts())\n",
    "\n",
    "print('Class Distribution in Validation Data:')\n",
    "display(validation_df2['target'].value_counts())"
   ]
  },
  {
   "cell_type": "code",
   "execution_count": 20,
   "metadata": {},
   "outputs": [],
   "source": [
    "# Define the data loaders\n",
    "train_loader = TrainDataLoader(train_val_img, training_df2, training_df2[training_df2['target'] == 0].index, \n",
    "                                training_df2[training_df2['target'] == 1].index, batch_size=32, augment=True)\n",
    "\n",
    "val_loader = ValidationDataLoader(train_val_img, validation_df2, batch_size=32, min_positive_samples=5)\n",
    "\n",
    "# Define training and validation datasets\n",
    "train_dataset = tf.data.Dataset.from_generator(\n",
    "    lambda: train_loader,\n",
    "    output_signature=(\n",
    "        tf.TensorSpec(shape=(32, 128, 128, 3), dtype=tf.float32),  # Adjust shape based on batch size and image size\n",
    "        tf.TensorSpec(shape=(32,), dtype=tf.int32)\n",
    "    )\n",
    ")\n",
    "\n",
    "# Repeat for validation loader\n",
    "val_dataset = tf.data.Dataset.from_generator(\n",
    "    lambda: val_loader,\n",
    "    output_signature=(\n",
    "        tf.TensorSpec(shape=(32, 128, 128, 3), dtype=tf.float32),\n",
    "        tf.TensorSpec(shape=(32,), dtype=tf.int32)\n",
    "    )\n",
    ")"
   ]
  },
  {
   "cell_type": "code",
   "execution_count": 21,
   "metadata": {},
   "outputs": [],
   "source": [
    "tf.keras.backend.clear_session()\n",
    "\n",
    "# Build the model\n",
    "model2 = build_model()\n",
    "\n",
    "# Define Learning Rate Scheduler\n",
    "initial_learning_rate = 1e-3\n",
    "steps_per_epoch = len(train_loader)  # Total number of batches in the training set\n",
    "\n",
    "lr_schedule = get_lr_scheduler(initial_learning_rate, steps_per_epoch, epochs_per_restart=5)\n",
    "optimizer = tf.keras.optimizers.legacy.Adam(learning_rate=lr_schedule)\n",
    "\n",
    "# Define Callbacks\n",
    "from tensorflow.keras.callbacks import ModelCheckpoint, EarlyStopping\n",
    "\n",
    "# Define the checkpoint callback\n",
    "checkpoint_callback = ModelCheckpoint(\n",
    "    filepath='Fold2/model_{epoch:02d}.h5',  # Save a new file for each epoch\n",
    "    save_weights_only=False,      # Save the entire model\n",
    "    save_best_only=True,        # Save only the best model\n",
    "    monitor='val_partial_auc_metric',  # Use the custom validation AUC metric\n",
    "    mode='max',                 # Maximizing the AUC\n",
    "    verbose=0\n",
    ")\n",
    "\n",
    "# Define the early stopping callback based on validation partial AUC\n",
    "early_stopping_callback = EarlyStopping(\n",
    "    monitor='val_partial_auc_metric',  # Monitor the custom validation AUC metric\n",
    "    patience=5,                        # Number of epochs with no improvement before stopping\n",
    "    mode='max',                        # Maximize the AUC\n",
    "    min_delta=0.001,                   # Minimum change in the monitored quantity\n",
    "    restore_best_weights=True,         # Restore the best weights after stopping\n",
    "    verbose=1\n",
    ")\n",
    "\n",
    "# Compile the model\n",
    "model2.compile(\n",
    "    optimizer=optimizer,\n",
    "    loss='binary_crossentropy',\n",
    "    metrics=['accuracy', partial_auc_metric]\n",
    ")\n",
    "\n",
    "# Define callbacks\n",
    "callbacks = [checkpoint_callback, early_stopping_callback]"
   ]
  },
  {
   "cell_type": "code",
   "execution_count": 107,
   "metadata": {},
   "outputs": [
    {
     "name": "stdout",
     "output_type": "stream",
     "text": [
      "Epoch 1/30\n"
     ]
    },
    {
     "name": "stderr",
     "output_type": "stream",
     "text": [
      "2024-11-11 17:25:36.982704: I tensorflow/core/common_runtime/executor.cc:1197] [/device:CPU:0] (DEBUG INFO) Executor start aborting (this does not indicate an error and you can ignore this message): INVALID_ARGUMENT: You must feed a value for placeholder tensor 'Placeholder/_0' with dtype int32\n",
      "\t [[{{node Placeholder/_0}}]]\n"
     ]
    },
    {
     "name": "stdout",
     "output_type": "stream",
     "text": [
      "2072/2072 [==============================] - ETA: 0s - loss: 0.4242 - accuracy: 0.8088 - partial_auc_metric: 0.1301"
     ]
    },
    {
     "name": "stderr",
     "output_type": "stream",
     "text": [
      "2024-11-11 17:29:51.973734: I tensorflow/core/common_runtime/executor.cc:1197] [/device:CPU:0] (DEBUG INFO) Executor start aborting (this does not indicate an error and you can ignore this message): INVALID_ARGUMENT: You must feed a value for placeholder tensor 'Placeholder/_0' with dtype int32\n",
      "\t [[{{node Placeholder/_0}}]]\n"
     ]
    },
    {
     "name": "stdout",
     "output_type": "stream",
     "text": [
      "2072/2072 [==============================] - 276s 132ms/step - loss: 0.4242 - accuracy: 0.8088 - partial_auc_metric: 0.1301 - val_loss: 0.3993 - val_accuracy: 0.8205 - val_partial_auc_metric: 0.1198\n",
      "Epoch 2/30\n",
      "2072/2072 [==============================] - 293s 141ms/step - loss: 0.3463 - accuracy: 0.8481 - partial_auc_metric: 0.1498 - val_loss: 0.3961 - val_accuracy: 0.8388 - val_partial_auc_metric: 0.0985\n",
      "Epoch 3/30\n",
      "2072/2072 [==============================] - 290s 140ms/step - loss: 0.3120 - accuracy: 0.8650 - partial_auc_metric: 0.1576 - val_loss: 0.3788 - val_accuracy: 0.8451 - val_partial_auc_metric: 0.1055\n",
      "Epoch 4/30\n",
      "2072/2072 [==============================] - 292s 141ms/step - loss: 0.2774 - accuracy: 0.8823 - partial_auc_metric: 0.1653 - val_loss: 0.4273 - val_accuracy: 0.8332 - val_partial_auc_metric: 0.0990\n",
      "Epoch 5/30\n",
      "2072/2072 [==============================] - 288s 139ms/step - loss: 0.2632 - accuracy: 0.8893 - partial_auc_metric: 0.1688 - val_loss: 0.4115 - val_accuracy: 0.8443 - val_partial_auc_metric: 0.1016\n",
      "Epoch 6/30\n",
      "2072/2072 [==============================] - ETA: 0s - loss: 0.3092 - accuracy: 0.8663 - partial_auc_metric: 0.1584Restoring model weights from the end of the best epoch: 1.\n",
      "2072/2072 [==============================] - 295s 142ms/step - loss: 0.3092 - accuracy: 0.8663 - partial_auc_metric: 0.1584 - val_loss: 0.4008 - val_accuracy: 0.8306 - val_partial_auc_metric: 0.1052\n",
      "Epoch 6: early stopping\n"
     ]
    }
   ],
   "source": [
    "# Train the model\n",
    "history1 = model2.fit(\n",
    "    train_dataset,\n",
    "    validation_data=val_dataset,\n",
    "    epochs=30,\n",
    "    steps_per_epoch=len(train_loader),\n",
    "    validation_steps=len(val_loader),\n",
    "    callbacks=callbacks\n",
    "    )"
   ]
  },
  {
   "cell_type": "code",
   "execution_count": 108,
   "metadata": {},
   "outputs": [],
   "source": [
    "# Save the training history\n",
    "for key in fold2_histories.keys():\n",
    "    fold2_histories[key].extend(history1.history[key])"
   ]
  },
  {
   "cell_type": "code",
   "execution_count": 110,
   "metadata": {},
   "outputs": [],
   "source": [
    "# Unfreeze the last 30 layers of the EfficientNet base model\n",
    "for layer in model2.layers[0].layers[-30:]:\n",
    "    layer.trainable = True\n",
    "    if hasattr(layer, 'kernel_regularizer'):\n",
    "        layer.kernel_regularizer = l2(1e-4)\n",
    "\n",
    "# Updated Learning Rate Scheduler for Fine-Tuning\n",
    "initial_learning_rate = 5e-5  # Lower than the initial phase\n",
    "epochs_per_restart = 5  # Shorter restart cycle\n",
    "\n",
    "lr_schedule = get_lr_scheduler(initial_learning_rate, steps_per_epoch, epochs_per_restart)\n",
    "optimizer = tf.keras.optimizers.legacy.Adam(learning_rate=lr_schedule)\n",
    "\n",
    "# Define the checkpoint callback\n",
    "checkpoint_callback = ModelCheckpoint(\n",
    "    filepath='Fold2/model_{epoch:02d}.h5',  # Save a new file for each epoch\n",
    "    save_weights_only=False,      # Save the entire model\n",
    "    save_best_only=True,        # Save only the best model\n",
    "    monitor='val_partial_auc_metric',  # Use the custom validation AUC metric\n",
    "    mode='max',                 # Maximizing the AUC\n",
    "    verbose=0\n",
    ")\n",
    "\n",
    "# Define the early stopping callback based on validation partial AUC\n",
    "early_stopping_callback = EarlyStopping(\n",
    "    monitor='val_partial_auc_metric',  # Monitor the custom validation AUC metric\n",
    "    patience=5,                        # Number of epochs with no improvement before stopping\n",
    "    mode='max',                        # Maximize the AUC\n",
    "    min_delta=0.005,                   # Minimum change in the monitored quantity\n",
    "    restore_best_weights=True,         # Restore the best weights after stopping\n",
    "    verbose=1\n",
    ")\n",
    "\n",
    "# Define callbacks\n",
    "callbacks = [checkpoint_callback, early_stopping_callback]\n",
    "\n",
    "# Compile the model again with a lower learning rate for fine-tuning\n",
    "model2.compile(optimizer=optimizer, \n",
    "              loss='binary_crossentropy',\n",
    "              metrics=['accuracy', partial_auc_metric])"
   ]
  },
  {
   "cell_type": "code",
   "execution_count": 112,
   "metadata": {},
   "outputs": [
    {
     "name": "stdout",
     "output_type": "stream",
     "text": [
      "Epoch 2/30\n",
      "2072/2072 [==============================] - 279s 134ms/step - loss: 0.4712 - accuracy: 0.7799 - partial_auc_metric: 0.1165 - val_loss: 0.3448 - val_accuracy: 0.8266 - val_partial_auc_metric: 0.1412\n",
      "Epoch 3/30\n",
      "2072/2072 [==============================] - 288s 139ms/step - loss: 0.4167 - accuracy: 0.8075 - partial_auc_metric: 0.1303 - val_loss: 0.3688 - val_accuracy: 0.8136 - val_partial_auc_metric: 0.1522\n",
      "Epoch 4/30\n",
      "2072/2072 [==============================] - 294s 142ms/step - loss: 0.3957 - accuracy: 0.8207 - partial_auc_metric: 0.1354 - val_loss: 0.3732 - val_accuracy: 0.8120 - val_partial_auc_metric: 0.1481\n",
      "Epoch 5/30\n",
      "2072/2072 [==============================] - 300s 145ms/step - loss: 0.3879 - accuracy: 0.8240 - partial_auc_metric: 0.1380 - val_loss: 0.3751 - val_accuracy: 0.8201 - val_partial_auc_metric: 0.1478\n",
      "Epoch 6/30\n",
      "2072/2072 [==============================] - 299s 144ms/step - loss: 0.3893 - accuracy: 0.8229 - partial_auc_metric: 0.1382 - val_loss: 0.3782 - val_accuracy: 0.8149 - val_partial_auc_metric: 0.1435\n",
      "Epoch 7/30\n",
      "2072/2072 [==============================] - 299s 144ms/step - loss: 0.3747 - accuracy: 0.8311 - partial_auc_metric: 0.1416 - val_loss: 0.3607 - val_accuracy: 0.8274 - val_partial_auc_metric: 0.1417\n",
      "Epoch 8/30\n",
      "2072/2072 [==============================] - ETA: 0s - loss: 0.3627 - accuracy: 0.8370 - partial_auc_metric: 0.1448Restoring model weights from the end of the best epoch: 3.\n",
      "2072/2072 [==============================] - 295s 143ms/step - loss: 0.3627 - accuracy: 0.8370 - partial_auc_metric: 0.1448 - val_loss: 0.3388 - val_accuracy: 0.8387 - val_partial_auc_metric: 0.1475\n",
      "Epoch 8: early stopping\n"
     ]
    }
   ],
   "source": [
    "# Train the model\n",
    "history2 = model2.fit(\n",
    "    train_dataset,\n",
    "    validation_data=val_dataset,\n",
    "    epochs=30,\n",
    "    initial_epoch=1,  # Start from the early stopping epoch\n",
    "    steps_per_epoch=len(train_loader),\n",
    "    validation_steps=len(val_loader),\n",
    "    callbacks=callbacks\n",
    "    )"
   ]
  },
  {
   "cell_type": "code",
   "execution_count": 113,
   "metadata": {},
   "outputs": [],
   "source": [
    "# Save the training history\n",
    "for key in fold2_histories.keys():\n",
    "    fold2_histories[key].extend(history2.history[key])"
   ]
  },
  {
   "cell_type": "code",
   "execution_count": 115,
   "metadata": {},
   "outputs": [],
   "source": [
    "# Update learning rate and scheduler\n",
    "initial_learning_rate = 1e-5  # Reduced learning rate\n",
    "epochs_per_restart = 3        # Shorter restart cycle for fine-tuning\n",
    "lr_schedule = get_lr_scheduler(initial_learning_rate, steps_per_epoch, epochs_per_restart)\n",
    "\n",
    "# Update optimizer with new learning rate\n",
    "optimizer = tf.keras.optimizers.legacy.Adam(learning_rate=lr_schedule)\n",
    "\n",
    "# Unfreeze additional layers\n",
    "for layer in model2.layers[0].layers[-50:]:  # Unfreeze 50 more layers as an example\n",
    "    layer.trainable = True\n",
    "    if hasattr(layer, 'kernel_regularizer'):\n",
    "        layer.kernel_regularizer = l2(1e-4)\n",
    "\n",
    "# Compile and fit the model for Phase 3\n",
    "model2.compile(optimizer=optimizer, loss='binary_crossentropy', metrics=['accuracy', partial_auc_metric])"
   ]
  },
  {
   "cell_type": "code",
   "execution_count": 116,
   "metadata": {},
   "outputs": [
    {
     "name": "stdout",
     "output_type": "stream",
     "text": [
      "Epoch 4/30\n",
      "2072/2072 [==============================] - 293s 140ms/step - loss: 0.4800 - accuracy: 0.7708 - partial_auc_metric: 0.1125 - val_loss: 0.3886 - val_accuracy: 0.8189 - val_partial_auc_metric: 0.1313\n",
      "Epoch 5/30\n",
      "2072/2072 [==============================] - 308s 149ms/step - loss: 0.4605 - accuracy: 0.7805 - partial_auc_metric: 0.1175 - val_loss: 0.4272 - val_accuracy: 0.7885 - val_partial_auc_metric: 0.1329\n",
      "Epoch 6/30\n",
      "2072/2072 [==============================] - 316s 153ms/step - loss: 0.4604 - accuracy: 0.7836 - partial_auc_metric: 0.1172 - val_loss: 0.4161 - val_accuracy: 0.8066 - val_partial_auc_metric: 0.1365\n",
      "Epoch 7/30\n",
      "2072/2072 [==============================] - 317s 153ms/step - loss: 0.4483 - accuracy: 0.7906 - partial_auc_metric: 0.1215 - val_loss: 0.4302 - val_accuracy: 0.7910 - val_partial_auc_metric: 0.1351\n",
      "Epoch 8/30\n",
      "2072/2072 [==============================] - 351s 170ms/step - loss: 0.4481 - accuracy: 0.7897 - partial_auc_metric: 0.1210 - val_loss: 0.4163 - val_accuracy: 0.8011 - val_partial_auc_metric: 0.1353\n",
      "Epoch 9/30\n",
      "2072/2072 [==============================] - 356s 172ms/step - loss: 0.4379 - accuracy: 0.7966 - partial_auc_metric: 0.1238 - val_loss: 0.4259 - val_accuracy: 0.7939 - val_partial_auc_metric: 0.1349\n",
      "Epoch 10/30\n",
      "2072/2072 [==============================] - 339s 164ms/step - loss: 0.4346 - accuracy: 0.7992 - partial_auc_metric: 0.1251 - val_loss: 0.4106 - val_accuracy: 0.8020 - val_partial_auc_metric: 0.1325\n",
      "Epoch 11/30\n",
      "2072/2072 [==============================] - ETA: 0s - loss: 0.4367 - accuracy: 0.7966 - partial_auc_metric: 0.1246Restoring model weights from the end of the best epoch: 6.\n",
      "2072/2072 [==============================] - 355s 171ms/step - loss: 0.4367 - accuracy: 0.7966 - partial_auc_metric: 0.1246 - val_loss: 0.4074 - val_accuracy: 0.8077 - val_partial_auc_metric: 0.1346\n",
      "Epoch 11: early stopping\n"
     ]
    }
   ],
   "source": [
    "# Train the model\n",
    "history3 = model2.fit(\n",
    "    train_dataset,\n",
    "    validation_data=val_dataset,\n",
    "    epochs=30,\n",
    "    initial_epoch=3,  # Start from the early stopping epoch\n",
    "    steps_per_epoch=len(train_loader),\n",
    "    validation_steps=len(val_loader),\n",
    "    callbacks=callbacks\n",
    "    )"
   ]
  },
  {
   "cell_type": "code",
   "execution_count": 117,
   "metadata": {},
   "outputs": [],
   "source": [
    "# Save the training history\n",
    "for key in fold2_histories.keys():\n",
    "    fold2_histories[key].extend(history3.history[key])"
   ]
  },
  {
   "cell_type": "code",
   "execution_count": 126,
   "metadata": {},
   "outputs": [
    {
     "data": {
      "image/png": "[encoded data removed]",
      "text/plain": [
       "<Figure size 1400x600 with 2 Axes>"
      ]
     },
     "metadata": {},
     "output_type": "display_data"
    }
   ],
   "source": [
    "# Plot the training history\n",
    "plt.figure(figsize=(14, 6))\n",
    "\n",
    "plt.subplot(1, 2, 1)\n",
    "plt.plot(fold2_histories['accuracy'], label='accuracy')\n",
    "plt.plot(fold2_histories['val_accuracy'], label='val_accuracy')\n",
    "plt.vlines([6, 13], 0.5, 1, colors='r', linestyles='dashed', label='Unfreeze Layers')\n",
    "\n",
    "plt.title('Training and Validation Accuracy')\n",
    "plt.xlabel('Epoch')\n",
    "plt.ylabel('Accuracy')\n",
    "plt.legend()\n",
    "\n",
    "plt.subplot(1, 2, 2)\n",
    "plt.plot(fold2_histories['partial_auc_metric'], label='partial_auc_metric')\n",
    "plt.plot(fold2_histories['val_partial_auc_metric'], label='val_partial_auc_metric')\n",
    "plt.vlines([6, 13], 0.1, 0.2, colors='r', linestyles='dashed', label='Unfreeze Layers')\n",
    "plt.title('Training and Validation Partial AUC')\n",
    "plt.xlabel('Epoch')\n",
    "plt.ylabel('Partial AUC')\n",
    "plt.legend()\n",
    "\n",
    "plt.tight_layout()\n",
    "plt.savefig('Fold2/training_history.png')"
   ]
  },
  {
   "cell_type": "code",
   "execution_count": 22,
   "metadata": {},
   "outputs": [
    {
     "name": "stdout",
     "output_type": "stream",
     "text": [
      "WARNING:tensorflow:Error in loading the saved optimizer state. As a result, your model is starting with a freshly initialized optimizer.\n"
     ]
    },
    {
     "data": {
      "application/vnd.jupyter.widget-view+json": {
       "model_id": "0d2f8e8d771e4c96b9febcb0f2e443b7",
       "version_major": 2,
       "version_minor": 0
      },
      "text/plain": [
       "Predicting:   0%|          | 0/234 [00:00<?, ?it/s]"
      ]
     },
     "metadata": {},
     "output_type": "display_data"
    },
    {
     "name": "stderr",
     "output_type": "stream",
     "text": [
      "2024-11-22 22:20:13.698018: I tensorflow/core/common_runtime/executor.cc:1197] [/device:CPU:0] (DEBUG INFO) Executor start aborting (this does not indicate an error and you can ignore this message): INVALID_ARGUMENT: You must feed a value for placeholder tensor 'Placeholder/_0' with dtype int32\n",
      "\t [[{{node Placeholder/_0}}]]\n"
     ]
    },
    {
     "name": "stdout",
     "output_type": "stream",
     "text": [
      "Partial AUC: 0.1431\n"
     ]
    }
   ],
   "source": [
    "# Load the best model\n",
    "model2 = tf.keras.models.load_model('Fold2/model_03.h5', custom_objects={'partial_auc_metric': partial_auc_metric})\n",
    "\n",
    "# Make predictions on the validation set\n",
    "test_loader = TestDataLoader(train_val_img, validation_df2, batch_size=32)\n",
    "\n",
    "test_dataset = tf.data.Dataset.from_generator(\n",
    "    lambda: test_loader,\n",
    "    output_signature=(\n",
    "        tf.TensorSpec(shape=(None, 128, 128, 3), dtype=tf.float32)\n",
    "    )\n",
    ")\n",
    "\n",
    "# Estimate the number of batches in the test dataset\n",
    "num_batches = len(test_loader)\n",
    "\n",
    "# Wrap the predictions call with tqdm\n",
    "predictions = []\n",
    "for batch in tqdm(test_dataset, total=num_batches, desc=\"Predicting\"):\n",
    "    batch_preds = model2.predict(batch, verbose=0)\n",
    "    predictions.append(batch_preds)\n",
    "\n",
    "# Convert predictions to a single numpy array\n",
    "predictions = np.concatenate(predictions, axis=0)\n",
    "\n",
    "# Calculate the partial AUC\n",
    "partial_auc = partial_auc_metric(validation_df2['target'].values, predictions)\n",
    "print(f\"Partial AUC: {partial_auc:.4f}\")"
   ]
  },
  {
   "cell_type": "code",
   "execution_count": 23,
   "metadata": {},
   "outputs": [],
   "source": [
    "# Add predictions to the validation DataFrame\n",
    "validation_df2['cnn_confidence'] = predictions"
   ]
  },
  {
   "cell_type": "markdown",
   "metadata": {},
   "source": [
    "# Phase 3 (OOF for f=2)"
   ]
  },
  {
   "cell_type": "code",
   "execution_count": 24,
   "metadata": {},
   "outputs": [
    {
     "name": "stdout",
     "output_type": "stream",
     "text": [
      "Class Distribution in Training Data:\n"
     ]
    },
    {
     "data": {
      "text/plain": [
       "target\n",
       "0    33159\n",
       "1     3360\n",
       "Name: count, dtype: int64"
      ]
     },
     "metadata": {},
     "output_type": "display_data"
    },
    {
     "name": "stdout",
     "output_type": "stream",
     "text": [
      "Class Distribution in Validation Data:\n"
     ]
    },
    {
     "data": {
      "text/plain": [
       "target\n",
       "0    6908\n",
       "1     570\n",
       "Name: count, dtype: int64"
      ]
     },
     "metadata": {},
     "output_type": "display_data"
    }
   ],
   "source": [
    "# Perform K-Fold, Setting f=2\n",
    "f = 2\n",
    "training_df3, validation_df3 = stratified_group_k_fold(train_metadata_sample, N_FOLDS, RANDOM_SEED, f)\n",
    "\n",
    "# Class Distribution in Training and Validation Data\n",
    "print('Class Distribution in Training Data:')\n",
    "display(training_df2['target'].value_counts())\n",
    "\n",
    "print('Class Distribution in Validation Data:')\n",
    "display(validation_df2['target'].value_counts())"
   ]
  },
  {
   "cell_type": "code",
   "execution_count": 25,
   "metadata": {},
   "outputs": [],
   "source": [
    "# Define the data loaders\n",
    "train_loader = TrainDataLoader(train_val_img, training_df3, training_df3[training_df3['target'] == 0].index, \n",
    "                                training_df3[training_df3['target'] == 1].index, batch_size=32, augment=True)\n",
    "\n",
    "val_loader = ValidationDataLoader(train_val_img, validation_df3, batch_size=32, min_positive_samples=5)\n",
    "\n",
    "# Define training and validation datasets\n",
    "train_dataset = tf.data.Dataset.from_generator(\n",
    "    lambda: train_loader,\n",
    "    output_signature=(\n",
    "        tf.TensorSpec(shape=(32, 128, 128, 3), dtype=tf.float32),  # Adjust shape based on batch size and image size\n",
    "        tf.TensorSpec(shape=(32,), dtype=tf.int32)\n",
    "    )\n",
    ")\n",
    "\n",
    "val_dataset = tf.data.Dataset.from_generator(\n",
    "    lambda: val_loader,\n",
    "    output_signature=(\n",
    "        tf.TensorSpec(shape=(32, 128, 128, 3), dtype=tf.float32),\n",
    "        tf.TensorSpec(shape=(32,), dtype=tf.int32)\n",
    "    )\n",
    ")"
   ]
  },
  {
   "cell_type": "code",
   "execution_count": 26,
   "metadata": {},
   "outputs": [],
   "source": [
    "tf.keras.backend.clear_session()\n",
    "\n",
    "# Build the model\n",
    "model3 = build_model()\n",
    "\n",
    "# Define Learning Rate Scheduler\n",
    "initial_learning_rate = 1e-3\n",
    "steps_per_epoch = len(train_loader)  # Total number of batches in the training set\n",
    "\n",
    "lr_schedule = get_lr_scheduler(initial_learning_rate, steps_per_epoch, epochs_per_restart=5)\n",
    "optimizer = tf.keras.optimizers.legacy.Adam(learning_rate=lr_schedule)\n",
    "\n",
    "# Define Callbacks\n",
    "from tensorflow.keras.callbacks import ModelCheckpoint, EarlyStopping\n",
    "\n",
    "# Define the checkpoint callback\n",
    "checkpoint_callback = ModelCheckpoint(\n",
    "    filepath='Fold3/model_{epoch:02d}.h5',  # Save a new file for each epoch\n",
    "    save_weights_only=False,      # Save the entire model\n",
    "    save_best_only=True,        # Save only the best model\n",
    "    monitor='val_partial_auc_metric',  # Use the custom validation AUC metric\n",
    "    mode='max',                 # Maximizing the AUC\n",
    "    verbose=0\n",
    ")\n",
    "\n",
    "# Define the early stopping callback based on validation partial AUC\n",
    "early_stopping_callback = EarlyStopping(\n",
    "    monitor='val_partial_auc_metric',  # Monitor the custom validation AUC metric\n",
    "    patience=4,                        # Number of epochs with no improvement before stopping\n",
    "    mode='max',                        # Maximize the AUC\n",
    "    min_delta=0.001,                   # Minimum change in the monitored quantity\n",
    "    restore_best_weights=True,         # Restore the best weights after stopping\n",
    "    verbose=1\n",
    ")\n",
    "\n",
    "# Compile the model\n",
    "model3.compile(\n",
    "    optimizer=optimizer,\n",
    "    loss='binary_crossentropy',\n",
    "    metrics=['accuracy', partial_auc_metric]\n",
    ")\n",
    "\n",
    "# Define callbacks\n",
    "callbacks = [checkpoint_callback, early_stopping_callback]"
   ]
  },
  {
   "cell_type": "code",
   "execution_count": 128,
   "metadata": {},
   "outputs": [
    {
     "name": "stdout",
     "output_type": "stream",
     "text": [
      "Epoch 1/30\n"
     ]
    },
    {
     "name": "stderr",
     "output_type": "stream",
     "text": [
      "2024-11-11 19:25:40.590515: I tensorflow/core/common_runtime/executor.cc:1197] [/device:CPU:0] (DEBUG INFO) Executor start aborting (this does not indicate an error and you can ignore this message): INVALID_ARGUMENT: You must feed a value for placeholder tensor 'Placeholder/_0' with dtype int32\n",
      "\t [[{{node Placeholder/_0}}]]\n"
     ]
    },
    {
     "name": "stdout",
     "output_type": "stream",
     "text": [
      "1958/1958 [==============================] - ETA: 0s - loss: 0.4248 - accuracy: 0.8072 - partial_auc_metric: 0.1309"
     ]
    },
    {
     "name": "stderr",
     "output_type": "stream",
     "text": [
      "2024-11-11 19:29:51.057867: I tensorflow/core/common_runtime/executor.cc:1197] [/device:CPU:0] (DEBUG INFO) Executor start aborting (this does not indicate an error and you can ignore this message): INVALID_ARGUMENT: You must feed a value for placeholder tensor 'Placeholder/_0' with dtype int32\n",
      "\t [[{{node Placeholder/_0}}]]\n"
     ]
    },
    {
     "name": "stdout",
     "output_type": "stream",
     "text": [
      "1958/1958 [==============================] - 276s 140ms/step - loss: 0.4248 - accuracy: 0.8072 - partial_auc_metric: 0.1309 - val_loss: 0.3510 - val_accuracy: 0.8662 - val_partial_auc_metric: 0.1088\n",
      "Epoch 2/30\n",
      "1958/1958 [==============================] - 287s 146ms/step - loss: 0.3380 - accuracy: 0.8505 - partial_auc_metric: 0.1514 - val_loss: 0.3340 - val_accuracy: 0.8780 - val_partial_auc_metric: 0.1143\n",
      "Epoch 3/30\n",
      "1958/1958 [==============================] - 293s 150ms/step - loss: 0.3063 - accuracy: 0.8697 - partial_auc_metric: 0.1595 - val_loss: 0.3731 - val_accuracy: 0.8695 - val_partial_auc_metric: 0.1044\n",
      "Epoch 4/30\n",
      "1958/1958 [==============================] - 295s 151ms/step - loss: 0.2691 - accuracy: 0.8876 - partial_auc_metric: 0.1679 - val_loss: 0.3885 - val_accuracy: 0.8700 - val_partial_auc_metric: 0.1010\n",
      "Epoch 5/30\n",
      "1958/1958 [==============================] - 297s 152ms/step - loss: 0.2589 - accuracy: 0.8915 - partial_auc_metric: 0.1696 - val_loss: 0.3932 - val_accuracy: 0.8615 - val_partial_auc_metric: 0.1029\n",
      "Epoch 6/30\n",
      "1958/1958 [==============================] - ETA: 0s - loss: 0.3014 - accuracy: 0.8714 - partial_auc_metric: 0.1605Restoring model weights from the end of the best epoch: 2.\n",
      "1958/1958 [==============================] - 298s 152ms/step - loss: 0.3014 - accuracy: 0.8714 - partial_auc_metric: 0.1605 - val_loss: 0.3859 - val_accuracy: 0.8729 - val_partial_auc_metric: 0.1094\n",
      "Epoch 6: early stopping\n"
     ]
    }
   ],
   "source": [
    "# Train the model\n",
    "history1 = model3.fit(\n",
    "    train_dataset,\n",
    "    validation_data=val_dataset,\n",
    "    epochs=30,\n",
    "    steps_per_epoch=len(train_loader),\n",
    "    validation_steps=len(val_loader),\n",
    "    callbacks=callbacks\n",
    "    )"
   ]
  },
  {
   "cell_type": "code",
   "execution_count": 129,
   "metadata": {},
   "outputs": [],
   "source": [
    "# Save the training history\n",
    "for key in fold3_histories.keys():\n",
    "    fold3_histories[key].extend(history1.history[key])"
   ]
  },
  {
   "cell_type": "code",
   "execution_count": 133,
   "metadata": {},
   "outputs": [],
   "source": [
    "# Unfreeze the last 30 layers of the EfficientNet base model\n",
    "for layer in model3.layers[0].layers[-30:]:\n",
    "    layer.trainable = True\n",
    "    if hasattr(layer, 'kernel_regularizer'):\n",
    "        layer.kernel_regularizer = l2(1e-4)\n",
    "\n",
    "# Updated Learning Rate Scheduler for Fine-Tuning\n",
    "initial_learning_rate = 5e-5  # Lower than the initial phase\n",
    "epochs_per_restart = 5  # Shorter restart cycle\n",
    "\n",
    "lr_schedule = get_lr_scheduler(initial_learning_rate, steps_per_epoch, epochs_per_restart)\n",
    "optimizer = tf.keras.optimizers.legacy.Adam(learning_rate=lr_schedule)\n",
    "\n",
    "# Compile the model again with a lower learning rate for fine-tuning\n",
    "model3.compile(optimizer=optimizer, \n",
    "              loss='binary_crossentropy',\n",
    "              metrics=['accuracy', partial_auc_metric])"
   ]
  },
  {
   "cell_type": "code",
   "execution_count": 135,
   "metadata": {},
   "outputs": [
    {
     "name": "stdout",
     "output_type": "stream",
     "text": [
      "Epoch 3/30\n",
      "1958/1958 [==============================] - 286s 145ms/step - loss: 0.4754 - accuracy: 0.7794 - partial_auc_metric: 0.1166 - val_loss: 0.4166 - val_accuracy: 0.8257 - val_partial_auc_metric: 0.1019\n",
      "Epoch 4/30\n",
      "1958/1958 [==============================] - 271s 139ms/step - loss: 0.4087 - accuracy: 0.8131 - partial_auc_metric: 0.1319 - val_loss: 0.4029 - val_accuracy: 0.8292 - val_partial_auc_metric: 0.1082\n",
      "Epoch 5/30\n",
      "1958/1958 [==============================] - 274s 140ms/step - loss: 0.3969 - accuracy: 0.8194 - partial_auc_metric: 0.1360 - val_loss: 0.4094 - val_accuracy: 0.8298 - val_partial_auc_metric: 0.1052\n",
      "Epoch 6/30\n",
      "1958/1958 [==============================] - 269s 137ms/step - loss: 0.3849 - accuracy: 0.8252 - partial_auc_metric: 0.1389 - val_loss: 0.3741 - val_accuracy: 0.8416 - val_partial_auc_metric: 0.1161\n",
      "Epoch 7/30\n",
      "1958/1958 [==============================] - 271s 139ms/step - loss: 0.3809 - accuracy: 0.8299 - partial_auc_metric: 0.1403 - val_loss: 0.3924 - val_accuracy: 0.8375 - val_partial_auc_metric: 0.1097\n",
      "Epoch 8/30\n",
      "1958/1958 [==============================] - 273s 140ms/step - loss: 0.3713 - accuracy: 0.8333 - partial_auc_metric: 0.1425 - val_loss: 0.3915 - val_accuracy: 0.8379 - val_partial_auc_metric: 0.1080\n",
      "Epoch 9/30\n",
      "1958/1958 [==============================] - 534s 273ms/step - loss: 0.3594 - accuracy: 0.8410 - partial_auc_metric: 0.1454 - val_loss: 0.3784 - val_accuracy: 0.8375 - val_partial_auc_metric: 0.1121\n",
      "Epoch 10/30\n",
      "1958/1958 [==============================] - ETA: 0s - loss: 0.3444 - accuracy: 0.8465 - partial_auc_metric: 0.1502Restoring model weights from the end of the best epoch: 6.\n",
      "1958/1958 [==============================] - 252s 129ms/step - loss: 0.3444 - accuracy: 0.8465 - partial_auc_metric: 0.1502 - val_loss: 0.3762 - val_accuracy: 0.8479 - val_partial_auc_metric: 0.1072\n",
      "Epoch 10: early stopping\n"
     ]
    }
   ],
   "source": [
    "# Train the model\n",
    "history2 = model3.fit(\n",
    "    train_dataset,\n",
    "    validation_data=val_dataset,\n",
    "    epochs=30,\n",
    "    initial_epoch=2,  # Start from the early stopping epoch\n",
    "    steps_per_epoch=len(train_loader),\n",
    "    validation_steps=len(val_loader),\n",
    "    callbacks=callbacks\n",
    "    )"
   ]
  },
  {
   "cell_type": "code",
   "execution_count": 136,
   "metadata": {},
   "outputs": [],
   "source": [
    "# Save the training history\n",
    "for key in fold3_histories.keys():\n",
    "    fold3_histories[key].extend(history2.history[key])"
   ]
  },
  {
   "cell_type": "code",
   "execution_count": 141,
   "metadata": {},
   "outputs": [],
   "source": [
    "# Update learning rate and scheduler\n",
    "initial_learning_rate = 1e-5  # Reduced learning rate\n",
    "epochs_per_restart = 3        # Shorter restart cycle for fine-tuning\n",
    "lr_schedule = get_lr_scheduler(initial_learning_rate, steps_per_epoch, epochs_per_restart)\n",
    "\n",
    "# Update optimizer with new learning rate\n",
    "optimizer = tf.keras.optimizers.legacy.Adam(learning_rate=lr_schedule)\n",
    "\n",
    "# Unfreeze additional layers\n",
    "for layer in model3.layers[0].layers[-50:]:  # Unfreeze 50 more layers as an example\n",
    "    layer.trainable = True\n",
    "    if hasattr(layer, 'kernel_regularizer'):\n",
    "        layer.kernel_regularizer = l2(2e-4)\n",
    "\n",
    "# Compile and fit the model for Phase 3\n",
    "model3.compile(optimizer=optimizer, loss='binary_crossentropy', metrics=['accuracy', partial_auc_metric])"
   ]
  },
  {
   "cell_type": "code",
   "execution_count": 142,
   "metadata": {},
   "outputs": [
    {
     "name": "stdout",
     "output_type": "stream",
     "text": [
      "Epoch 7/30\n",
      "1958/1958 [==============================] - 278s 141ms/step - loss: 0.4401 - accuracy: 0.7951 - partial_auc_metric: 0.1240 - val_loss: 0.4385 - val_accuracy: 0.8019 - val_partial_auc_metric: 0.1053\n",
      "Epoch 8/30\n",
      "1958/1958 [==============================] - 276s 141ms/step - loss: 0.4317 - accuracy: 0.7988 - partial_auc_metric: 0.1260 - val_loss: 0.4456 - val_accuracy: 0.8044 - val_partial_auc_metric: 0.0980\n",
      "Epoch 9/30\n",
      "1958/1958 [==============================] - 278s 142ms/step - loss: 0.4346 - accuracy: 0.7994 - partial_auc_metric: 0.1248 - val_loss: 0.4429 - val_accuracy: 0.8023 - val_partial_auc_metric: 0.1097\n",
      "Epoch 10/30\n",
      "1958/1958 [==============================] - 277s 142ms/step - loss: 0.4303 - accuracy: 0.8012 - partial_auc_metric: 0.1262 - val_loss: 0.4424 - val_accuracy: 0.8032 - val_partial_auc_metric: 0.0990\n",
      "Epoch 11/30\n",
      "1958/1958 [==============================] - 278s 142ms/step - loss: 0.4210 - accuracy: 0.8072 - partial_auc_metric: 0.1291 - val_loss: 0.4269 - val_accuracy: 0.8127 - val_partial_auc_metric: 0.1092\n",
      "Epoch 12/30\n",
      "1958/1958 [==============================] - 531s 271ms/step - loss: 0.4175 - accuracy: 0.8087 - partial_auc_metric: 0.1300 - val_loss: 0.4130 - val_accuracy: 0.8251 - val_partial_auc_metric: 0.1116\n",
      "Epoch 13/30\n",
      "1958/1958 [==============================] - 255s 130ms/step - loss: 0.4148 - accuracy: 0.8096 - partial_auc_metric: 0.1306 - val_loss: 0.4260 - val_accuracy: 0.8154 - val_partial_auc_metric: 0.1078\n",
      "Epoch 14/30\n",
      "1958/1958 [==============================] - 261s 134ms/step - loss: 0.4133 - accuracy: 0.8109 - partial_auc_metric: 0.1310 - val_loss: 0.4265 - val_accuracy: 0.8146 - val_partial_auc_metric: 0.1086\n",
      "Epoch 15/30\n",
      "1958/1958 [==============================] - 312s 160ms/step - loss: 0.4143 - accuracy: 0.8118 - partial_auc_metric: 0.1310 - val_loss: 0.4465 - val_accuracy: 0.8070 - val_partial_auc_metric: 0.1044\n",
      "Epoch 16/30\n",
      "1958/1958 [==============================] - ETA: 0s - loss: 0.4085 - accuracy: 0.8132 - partial_auc_metric: 0.1319Restoring model weights from the end of the best epoch: 12.\n",
      "1958/1958 [==============================] - 272s 139ms/step - loss: 0.4085 - accuracy: 0.8132 - partial_auc_metric: 0.1319 - val_loss: 0.4188 - val_accuracy: 0.8278 - val_partial_auc_metric: 0.1065\n",
      "Epoch 16: early stopping\n"
     ]
    }
   ],
   "source": [
    "# Train the model\n",
    "history3 = model3.fit(\n",
    "    train_dataset,\n",
    "    validation_data=val_dataset,\n",
    "    epochs=30,\n",
    "    initial_epoch=6,  # Start from the early stopping epoch\n",
    "    steps_per_epoch=len(train_loader),\n",
    "    validation_steps=len(val_loader),\n",
    "    callbacks=callbacks\n",
    "    )"
   ]
  },
  {
   "cell_type": "code",
   "execution_count": 143,
   "metadata": {},
   "outputs": [],
   "source": [
    "# Save the training history\n",
    "for key in fold3_histories.keys():\n",
    "    fold3_histories[key].extend(history3.history[key])"
   ]
  },
  {
   "cell_type": "code",
   "execution_count": 144,
   "metadata": {},
   "outputs": [
    {
     "data": {
      "text/plain": [
       "(6, 8, 10)"
      ]
     },
     "execution_count": 144,
     "metadata": {},
     "output_type": "execute_result"
    }
   ],
   "source": [
    "len(history1.history['accuracy']), len(history2.history['accuracy']), len(history3.history['accuracy'])"
   ]
  },
  {
   "cell_type": "code",
   "execution_count": 145,
   "metadata": {},
   "outputs": [
    {
     "data": {
      "image/png": "[encoded data removed]",
      "text/plain": [
       "<Figure size 1400x600 with 2 Axes>"
      ]
     },
     "metadata": {},
     "output_type": "display_data"
    }
   ],
   "source": [
    "# Plot the training history\n",
    "plt.figure(figsize=(14, 6))\n",
    "\n",
    "plt.subplot(1, 2, 1)\n",
    "plt.plot(fold3_histories['accuracy'], label='accuracy')\n",
    "plt.plot(fold3_histories['val_accuracy'], label='val_accuracy')\n",
    "plt.vlines([6, 14], 0.5, 1, colors='r', linestyles='dashed', label='Unfreeze Layers')\n",
    "\n",
    "plt.title('Training and Validation Accuracy')\n",
    "plt.xlabel('Epoch')\n",
    "plt.ylabel('Accuracy')\n",
    "plt.legend()\n",
    "\n",
    "plt.subplot(1, 2, 2)\n",
    "plt.plot(fold3_histories['partial_auc_metric'], label='partial_auc_metric')\n",
    "plt.plot(fold3_histories['val_partial_auc_metric'], label='val_partial_auc_metric')\n",
    "plt.vlines([6, 14], 0.1, 0.2, colors='r', linestyles='dashed', label='Unfreeze Layers')\n",
    "plt.title('Training and Validation Partial AUC')\n",
    "plt.xlabel('Epoch')\n",
    "plt.ylabel('Partial AUC')\n",
    "plt.legend()\n",
    "\n",
    "plt.tight_layout()\n",
    "#plt.savefig('Fold3/training_history.png')"
   ]
  },
  {
   "cell_type": "code",
   "execution_count": 27,
   "metadata": {},
   "outputs": [
    {
     "name": "stdout",
     "output_type": "stream",
     "text": [
      "WARNING:tensorflow:Error in loading the saved optimizer state. As a result, your model is starting with a freshly initialized optimizer.\n"
     ]
    }
   ],
   "source": [
    "# Load the best model\n",
    "model3 = tf.keras.models.load_model('Fold3/model_06.h5', custom_objects={'partial_auc_metric': partial_auc_metric})"
   ]
  },
  {
   "cell_type": "code",
   "execution_count": 28,
   "metadata": {},
   "outputs": [
    {
     "data": {
      "application/vnd.jupyter.widget-view+json": {
       "model_id": "cc163603756c40a292090d13324c16d8",
       "version_major": 2,
       "version_minor": 0
      },
      "text/plain": [
       "Predicting:   0%|          | 0/304 [00:00<?, ?it/s]"
      ]
     },
     "metadata": {},
     "output_type": "display_data"
    },
    {
     "name": "stderr",
     "output_type": "stream",
     "text": [
      "2024-11-22 22:21:05.885083: I tensorflow/core/common_runtime/executor.cc:1197] [/device:CPU:0] (DEBUG INFO) Executor start aborting (this does not indicate an error and you can ignore this message): INVALID_ARGUMENT: You must feed a value for placeholder tensor 'Placeholder/_0' with dtype int32\n",
      "\t [[{{node Placeholder/_0}}]]\n"
     ]
    },
    {
     "name": "stdout",
     "output_type": "stream",
     "text": [
      "Partial AUC: 0.0901\n"
     ]
    }
   ],
   "source": [
    "# Make predictions on the validation set\n",
    "test_loader = TestDataLoader(train_val_img, validation_df3, batch_size=32)\n",
    "\n",
    "test_dataset = tf.data.Dataset.from_generator(\n",
    "    lambda: test_loader,\n",
    "    output_signature=(\n",
    "        tf.TensorSpec(shape=(None, 128, 128, 3), dtype=tf.float32)\n",
    "    )\n",
    ")\n",
    "\n",
    "# Estimate the number of batches in the test dataset\n",
    "num_batches = len(test_loader)\n",
    "\n",
    "# Wrap the predictions call with tqdm\n",
    "predictions = []\n",
    "for batch in tqdm(test_dataset, total=num_batches, desc=\"Predicting\"):\n",
    "    batch_preds = model3.predict(batch, verbose=0)\n",
    "    predictions.append(batch_preds)\n",
    "\n",
    "# Convert predictions to a single numpy array\n",
    "predictions = np.concatenate(predictions, axis=0)\n",
    "\n",
    "# Calculate the partial AUC\n",
    "partial_auc = partial_auc_metric(validation_df3['target'].values, predictions)\n",
    "print(f\"Partial AUC: {partial_auc:.4f}\")"
   ]
  },
  {
   "cell_type": "code",
   "execution_count": 29,
   "metadata": {},
   "outputs": [],
   "source": [
    "# Add predictions to the validation DataFrame\n",
    "validation_df3['cnn_confidence'] = predictions"
   ]
  },
  {
   "cell_type": "markdown",
   "metadata": {},
   "source": [
    "# Phase 4 (OOF f=3)"
   ]
  },
  {
   "cell_type": "code",
   "execution_count": 30,
   "metadata": {},
   "outputs": [
    {
     "name": "stdout",
     "output_type": "stream",
     "text": [
      "Class Distribution in Training Data:\n"
     ]
    },
    {
     "data": {
      "text/plain": [
       "target\n",
       "0    32696\n",
       "1     3189\n",
       "Name: count, dtype: int64"
      ]
     },
     "metadata": {},
     "output_type": "display_data"
    },
    {
     "name": "stdout",
     "output_type": "stream",
     "text": [
      "Class Distribution in Validation Data:\n"
     ]
    },
    {
     "data": {
      "text/plain": [
       "target\n",
       "0    7371\n",
       "1     741\n",
       "Name: count, dtype: int64"
      ]
     },
     "metadata": {},
     "output_type": "display_data"
    }
   ],
   "source": [
    "# Perform K-Fold, Setting f=3\n",
    "f = 3\n",
    "training_df4, validation_df4 = stratified_group_k_fold(train_metadata_sample, N_FOLDS, RANDOM_SEED, f)\n",
    "\n",
    "# Class Distribution in Training and Validation Data\n",
    "print('Class Distribution in Training Data:')\n",
    "display(training_df4['target'].value_counts())\n",
    "\n",
    "print('Class Distribution in Validation Data:')\n",
    "display(validation_df4['target'].value_counts())"
   ]
  },
  {
   "cell_type": "code",
   "execution_count": 31,
   "metadata": {},
   "outputs": [],
   "source": [
    "# Define the data loaders\n",
    "train_loader = TrainDataLoader(train_val_img, training_df4, training_df4[training_df4['target'] == 0].index, \n",
    "                                training_df4[training_df4['target'] == 1].index, batch_size=32, augment=True)\n",
    "\n",
    "val_loader = ValidationDataLoader(train_val_img, validation_df4, batch_size=32, min_positive_samples=5)\n",
    "\n",
    "# Define training and validation datasets\n",
    "train_dataset = tf.data.Dataset.from_generator(\n",
    "    lambda: train_loader,\n",
    "    output_signature=(\n",
    "        tf.TensorSpec(shape=(32, 128, 128, 3), dtype=tf.float32),  # Adjust shape based on batch size and image size\n",
    "        tf.TensorSpec(shape=(32,), dtype=tf.int32)\n",
    "    )\n",
    ")\n",
    "\n",
    "val_dataset = tf.data.Dataset.from_generator(\n",
    "    lambda: val_loader,\n",
    "    output_signature=(\n",
    "        tf.TensorSpec(shape=(32, 128, 128, 3), dtype=tf.float32),\n",
    "        tf.TensorSpec(shape=(32,), dtype=tf.int32)\n",
    "    )\n",
    ")"
   ]
  },
  {
   "cell_type": "code",
   "execution_count": 32,
   "metadata": {},
   "outputs": [],
   "source": [
    "# Build the model\n",
    "model4 = build_model()\n",
    "\n",
    "# Define Learning Rate Scheduler\n",
    "initial_learning_rate = 1e-3\n",
    "steps_per_epoch = len(train_loader)  # Total number of batches in the training set\n",
    "\n",
    "lr_schedule = get_lr_scheduler(initial_learning_rate, steps_per_epoch, epochs_per_restart=5)\n",
    "optimizer = tf.keras.optimizers.legacy.Adam(learning_rate=lr_schedule)\n",
    "\n",
    "# Define the checkpoint callback\n",
    "checkpoint_callback = ModelCheckpoint(\n",
    "    filepath='Fold4/model_{epoch:02d}.h5',  # Save a new file for each epoch\n",
    "    save_weights_only=False,      # Save the entire model\n",
    "    save_best_only=True,        # Save only the best model\n",
    "    monitor='val_partial_auc_metric',  # Use the custom validation AUC metric\n",
    "    mode='max',                 # Maximizing the AUC\n",
    "    verbose=0\n",
    ")\n",
    "\n",
    "# Define the early stopping callback based on validation partial AUC\n",
    "early_stopping_callback = EarlyStopping(\n",
    "    monitor='val_partial_auc_metric',  # Monitor the custom validation AUC metric\n",
    "    patience=4,                        # Number of epochs with no improvement before stopping\n",
    "    mode='max',                        # Maximize the AUC\n",
    "    min_delta=0.001,                   # Minimum change in the monitored quantity\n",
    "    restore_best_weights=True,         # Restore the best weights after stopping\n",
    "    verbose=1\n",
    ")\n",
    "\n",
    "# Compile the model\n",
    "model4.compile(\n",
    "    optimizer=optimizer,\n",
    "    loss='binary_crossentropy',\n",
    "    metrics=['accuracy', partial_auc_metric]\n",
    ")\n",
    "\n",
    "# Define callbacks\n",
    "callbacks = [checkpoint_callback, early_stopping_callback]"
   ]
  },
  {
   "cell_type": "code",
   "execution_count": 152,
   "metadata": {},
   "outputs": [
    {
     "name": "stdout",
     "output_type": "stream",
     "text": [
      "Epoch 1/30\n"
     ]
    },
    {
     "name": "stderr",
     "output_type": "stream",
     "text": [
      "2024-11-11 22:28:39.031428: I tensorflow/core/common_runtime/executor.cc:1197] [/device:CPU:0] (DEBUG INFO) Executor start aborting (this does not indicate an error and you can ignore this message): INVALID_ARGUMENT: You must feed a value for placeholder tensor 'Placeholder/_0' with dtype int32\n",
      "\t [[{{node Placeholder/_0}}]]\n"
     ]
    },
    {
     "name": "stdout",
     "output_type": "stream",
     "text": [
      "2043/2043 [==============================] - ETA: 0s - loss: 0.4254 - accuracy: 0.8101 - partial_auc_metric: 0.1308"
     ]
    },
    {
     "name": "stderr",
     "output_type": "stream",
     "text": [
      "2024-11-11 22:32:53.942139: I tensorflow/core/common_runtime/executor.cc:1197] [/device:CPU:0] (DEBUG INFO) Executor start aborting (this does not indicate an error and you can ignore this message): INVALID_ARGUMENT: You must feed a value for placeholder tensor 'Placeholder/_0' with dtype int32\n",
      "\t [[{{node Placeholder/_0}}]]\n"
     ]
    },
    {
     "name": "stdout",
     "output_type": "stream",
     "text": [
      "2043/2043 [==============================] - 278s 135ms/step - loss: 0.4254 - accuracy: 0.8101 - partial_auc_metric: 0.1308 - val_loss: 0.4502 - val_accuracy: 0.7850 - val_partial_auc_metric: 0.1131\n",
      "Epoch 2/30\n",
      "2043/2043 [==============================] - 299s 146ms/step - loss: 0.3443 - accuracy: 0.8481 - partial_auc_metric: 0.1506 - val_loss: 0.3819 - val_accuracy: 0.8551 - val_partial_auc_metric: 0.1059\n",
      "Epoch 3/30\n",
      "2043/2043 [==============================] - 285s 140ms/step - loss: 0.3083 - accuracy: 0.8669 - partial_auc_metric: 0.1592 - val_loss: 0.3616 - val_accuracy: 0.8602 - val_partial_auc_metric: 0.1208\n",
      "Epoch 4/30\n",
      "2043/2043 [==============================] - 290s 142ms/step - loss: 0.2735 - accuracy: 0.8844 - partial_auc_metric: 0.1674 - val_loss: 0.3644 - val_accuracy: 0.8554 - val_partial_auc_metric: 0.1209\n",
      "Epoch 5/30\n",
      "2043/2043 [==============================] - 341s 167ms/step - loss: 0.2593 - accuracy: 0.8918 - partial_auc_metric: 0.1697 - val_loss: 0.3826 - val_accuracy: 0.8602 - val_partial_auc_metric: 0.1154\n",
      "Epoch 6/30\n",
      "2043/2043 [==============================] - 347s 170ms/step - loss: 0.3015 - accuracy: 0.8697 - partial_auc_metric: 0.1607 - val_loss: 0.4043 - val_accuracy: 0.8733 - val_partial_auc_metric: 0.1096\n",
      "Epoch 7/30\n",
      "2043/2043 [==============================] - ETA: 0s - loss: 0.2919 - accuracy: 0.8763 - partial_auc_metric: 0.1629Restoring model weights from the end of the best epoch: 3.\n",
      "2043/2043 [==============================] - 324s 158ms/step - loss: 0.2919 - accuracy: 0.8763 - partial_auc_metric: 0.1629 - val_loss: 0.4050 - val_accuracy: 0.8596 - val_partial_auc_metric: 0.1106\n",
      "Epoch 7: early stopping\n"
     ]
    }
   ],
   "source": [
    "# Train the model\n",
    "history1 = model4.fit(\n",
    "    train_dataset,\n",
    "    validation_data=val_dataset,\n",
    "    epochs=30,\n",
    "    steps_per_epoch=len(train_loader),\n",
    "    validation_steps=len(val_loader),\n",
    "    callbacks=callbacks\n",
    "    )"
   ]
  },
  {
   "cell_type": "code",
   "execution_count": 153,
   "metadata": {},
   "outputs": [],
   "source": [
    "# Save the training history\n",
    "for key in fold4_histories.keys():\n",
    "    fold4_histories[key].extend(history1.history[key])"
   ]
  },
  {
   "cell_type": "code",
   "execution_count": 154,
   "metadata": {},
   "outputs": [],
   "source": [
    "# Unfreeze the last 30 layers of the EfficientNet base model\n",
    "for layer in model4.layers[0].layers[-30:]:\n",
    "    layer.trainable = True\n",
    "    if hasattr(layer, 'kernel_regularizer'):\n",
    "        layer.kernel_regularizer = l2(1e-5)\n",
    "\n",
    "# Updated Learning Rate Scheduler for Fine-Tuning\n",
    "initial_learning_rate = 5e-5  # Lower than the initial phase\n",
    "epochs_per_restart = 5  # Shorter restart cycle\n",
    "\n",
    "lr_schedule = get_lr_scheduler(initial_learning_rate, steps_per_epoch, epochs_per_restart)\n",
    "optimizer = tf.keras.optimizers.legacy.Adam(learning_rate=lr_schedule)\n",
    "\n",
    "# Compile the model again with a lower learning rate for fine-tuning\n",
    "model4.compile(optimizer=optimizer, \n",
    "              loss='binary_crossentropy',\n",
    "              metrics=['accuracy', partial_auc_metric])"
   ]
  },
  {
   "cell_type": "code",
   "execution_count": 155,
   "metadata": {},
   "outputs": [
    {
     "name": "stdout",
     "output_type": "stream",
     "text": [
      "Epoch 4/30\n",
      "2043/2043 [==============================] - 286s 139ms/step - loss: 0.4856 - accuracy: 0.7779 - partial_auc_metric: 0.1152 - val_loss: 0.4034 - val_accuracy: 0.8284 - val_partial_auc_metric: 0.1102\n",
      "Epoch 5/30\n",
      "2043/2043 [==============================] - 294s 144ms/step - loss: 0.4162 - accuracy: 0.8101 - partial_auc_metric: 0.1309 - val_loss: 0.3995 - val_accuracy: 0.8247 - val_partial_auc_metric: 0.1130\n",
      "Epoch 6/30\n",
      "2043/2043 [==============================] - 306s 150ms/step - loss: 0.3891 - accuracy: 0.8251 - partial_auc_metric: 0.1386 - val_loss: 0.3903 - val_accuracy: 0.8298 - val_partial_auc_metric: 0.1177\n",
      "Epoch 7/30\n",
      "2043/2043 [==============================] - 298s 146ms/step - loss: 0.3868 - accuracy: 0.8256 - partial_auc_metric: 0.1387 - val_loss: 0.3985 - val_accuracy: 0.8298 - val_partial_auc_metric: 0.1181\n",
      "Epoch 8/30\n",
      "2043/2043 [==============================] - 295s 144ms/step - loss: 0.3844 - accuracy: 0.8270 - partial_auc_metric: 0.1398 - val_loss: 0.3943 - val_accuracy: 0.8308 - val_partial_auc_metric: 0.1159\n",
      "Epoch 9/30\n",
      "2043/2043 [==============================] - 289s 142ms/step - loss: 0.3758 - accuracy: 0.8328 - partial_auc_metric: 0.1419 - val_loss: 0.3588 - val_accuracy: 0.8438 - val_partial_auc_metric: 0.1234\n",
      "Epoch 10/30\n",
      "2043/2043 [==============================] - 294s 144ms/step - loss: 0.3635 - accuracy: 0.8389 - partial_auc_metric: 0.1454 - val_loss: 0.3825 - val_accuracy: 0.8386 - val_partial_auc_metric: 0.1188\n",
      "Epoch 11/30\n",
      "2043/2043 [==============================] - 287s 141ms/step - loss: 0.3429 - accuracy: 0.8503 - partial_auc_metric: 0.1509 - val_loss: 0.3578 - val_accuracy: 0.8519 - val_partial_auc_metric: 0.1214\n",
      "Epoch 12/30\n",
      "2043/2043 [==============================] - 289s 142ms/step - loss: 0.3326 - accuracy: 0.8569 - partial_auc_metric: 0.1531 - val_loss: 0.3738 - val_accuracy: 0.8540 - val_partial_auc_metric: 0.1183\n",
      "Epoch 13/30\n",
      "2043/2043 [==============================] - ETA: 0s - loss: 0.3308 - accuracy: 0.8567 - partial_auc_metric: 0.1538Restoring model weights from the end of the best epoch: 9.\n",
      "2043/2043 [==============================] - 281s 138ms/step - loss: 0.3308 - accuracy: 0.8567 - partial_auc_metric: 0.1538 - val_loss: 0.3544 - val_accuracy: 0.8567 - val_partial_auc_metric: 0.1214\n",
      "Epoch 13: early stopping\n"
     ]
    }
   ],
   "source": [
    "# Train the model\n",
    "history2 = model4.fit(\n",
    "    train_dataset,\n",
    "    validation_data=val_dataset,\n",
    "    epochs=30,\n",
    "    initial_epoch=3,  # Start from the early stopping epoch\n",
    "    steps_per_epoch=len(train_loader),\n",
    "    validation_steps=len(val_loader),\n",
    "    callbacks=callbacks\n",
    "    )"
   ]
  },
  {
   "cell_type": "code",
   "execution_count": 156,
   "metadata": {},
   "outputs": [],
   "source": [
    "# Save the training history\n",
    "for key in fold4_histories.keys():\n",
    "    fold4_histories[key].extend(history2.history[key])"
   ]
  },
  {
   "cell_type": "code",
   "execution_count": 157,
   "metadata": {},
   "outputs": [],
   "source": [
    "# Update learning rate and scheduler\n",
    "initial_learning_rate = 1e-5  # Reduced learning rate\n",
    "epochs_per_restart = 3        # Shorter restart cycle for fine-tuning\n",
    "lr_schedule = get_lr_scheduler(initial_learning_rate, steps_per_epoch, epochs_per_restart)\n",
    "\n",
    "# Update optimizer with new learning rate\n",
    "optimizer = tf.keras.optimizers.legacy.Adam(learning_rate=lr_schedule)\n",
    "\n",
    "# Unfreeze additional layers\n",
    "for layer in model4.layers[0].layers[-50:-30]:  # Unfreeze 50 more layers as an example\n",
    "    layer.trainable = True\n",
    "    if hasattr(layer, 'kernel_regularizer'):\n",
    "        layer.kernel_regularizer = l2(1e-4)\n",
    "\n",
    "# Compile and fit the model for Phase 3\n",
    "model4.compile(optimizer=optimizer, loss='binary_crossentropy', metrics=['accuracy', partial_auc_metric])"
   ]
  },
  {
   "cell_type": "code",
   "execution_count": 158,
   "metadata": {},
   "outputs": [
    {
     "name": "stdout",
     "output_type": "stream",
     "text": [
      "Epoch 10/30\n",
      "2043/2043 [==============================] - 289s 140ms/step - loss: 0.4635 - accuracy: 0.7847 - partial_auc_metric: 0.1186 - val_loss: 0.4460 - val_accuracy: 0.8193 - val_partial_auc_metric: 0.0904\n",
      "Epoch 11/30\n",
      "2043/2043 [==============================] - 321s 157ms/step - loss: 0.4482 - accuracy: 0.7917 - partial_auc_metric: 0.1228 - val_loss: 0.4762 - val_accuracy: 0.7922 - val_partial_auc_metric: 0.0823\n",
      "Epoch 12/30\n",
      "2043/2043 [==============================] - 312s 153ms/step - loss: 0.4384 - accuracy: 0.7961 - partial_auc_metric: 0.1247 - val_loss: 0.4731 - val_accuracy: 0.7946 - val_partial_auc_metric: 0.0865\n",
      "Epoch 13/30\n",
      "2043/2043 [==============================] - 294s 144ms/step - loss: 0.4320 - accuracy: 0.8008 - partial_auc_metric: 0.1268 - val_loss: 0.4493 - val_accuracy: 0.8021 - val_partial_auc_metric: 0.0891\n",
      "Epoch 14/30\n",
      "2043/2043 [==============================] - ETA: 0s - loss: 0.4259 - accuracy: 0.8047 - partial_auc_metric: 0.1282Restoring model weights from the end of the best epoch: 10.\n",
      "2043/2043 [==============================] - 304s 149ms/step - loss: 0.4259 - accuracy: 0.8047 - partial_auc_metric: 0.1282 - val_loss: 0.4616 - val_accuracy: 0.7990 - val_partial_auc_metric: 0.0887\n",
      "Epoch 14: early stopping\n"
     ]
    }
   ],
   "source": [
    "# Train the model\n",
    "history3 = model4.fit(\n",
    "    train_dataset,\n",
    "    validation_data=val_dataset,\n",
    "    epochs=30,\n",
    "    initial_epoch=9,  # Start from the early stopping epoch\n",
    "    steps_per_epoch=len(train_loader),\n",
    "    validation_steps=len(val_loader),\n",
    "    callbacks=callbacks\n",
    "    )"
   ]
  },
  {
   "cell_type": "code",
   "execution_count": 159,
   "metadata": {},
   "outputs": [],
   "source": [
    "# Save the training history\n",
    "for key in fold4_histories.keys():\n",
    "    fold4_histories[key].extend(history3.history[key])"
   ]
  },
  {
   "cell_type": "code",
   "execution_count": 161,
   "metadata": {},
   "outputs": [
    {
     "data": {
      "text/plain": [
       "(7, 10, 5)"
      ]
     },
     "execution_count": 161,
     "metadata": {},
     "output_type": "execute_result"
    }
   ],
   "source": [
    "len(history1.history['accuracy']), len(history2.history['accuracy']), len(history3.history['accuracy'])"
   ]
  },
  {
   "cell_type": "code",
   "execution_count": 163,
   "metadata": {},
   "outputs": [
    {
     "data": {
      "image/png": "[encoded data removed]",
      "text/plain": [
       "<Figure size 1400x600 with 2 Axes>"
      ]
     },
     "metadata": {},
     "output_type": "display_data"
    }
   ],
   "source": [
    "# Plot the training history\n",
    "plt.figure(figsize=(14, 6))\n",
    "\n",
    "plt.subplot(1, 2, 1)\n",
    "plt.plot(fold4_histories['accuracy'], label='accuracy')\n",
    "plt.plot(fold4_histories['val_accuracy'], label='val_accuracy')\n",
    "plt.vlines([7, 17], 0.5, 1, colors='r', linestyles='dashed', label='Unfreeze Layers')\n",
    "\n",
    "plt.title('Training and Validation Accuracy')\n",
    "plt.xlabel('Epoch')\n",
    "plt.ylabel('Accuracy')\n",
    "plt.legend()\n",
    "\n",
    "plt.subplot(1, 2, 2)\n",
    "plt.plot(fold4_histories['partial_auc_metric'], label='partial_auc_metric')\n",
    "plt.plot(fold4_histories['val_partial_auc_metric'], label='val_partial_auc_metric')\n",
    "plt.vlines([7, 17], 0.1, 0.2, colors='r', linestyles='dashed', label='Unfreeze Layers')\n",
    "plt.title('Training and Validation Partial AUC')\n",
    "plt.xlabel('Epoch')\n",
    "plt.ylabel('Partial AUC')\n",
    "plt.legend()\n",
    "\n",
    "plt.tight_layout()\n",
    "plt.savefig('Fold4/training_history.png')"
   ]
  },
  {
   "cell_type": "code",
   "execution_count": 33,
   "metadata": {},
   "outputs": [
    {
     "name": "stdout",
     "output_type": "stream",
     "text": [
      "WARNING:tensorflow:Error in loading the saved optimizer state. As a result, your model is starting with a freshly initialized optimizer.\n"
     ]
    }
   ],
   "source": [
    "# Load the best model\n",
    "model4 = tf.keras.models.load_model('Fold4/model_09.h5', custom_objects={'partial_auc_metric': partial_auc_metric})"
   ]
  },
  {
   "cell_type": "code",
   "execution_count": 34,
   "metadata": {},
   "outputs": [
    {
     "data": {
      "application/vnd.jupyter.widget-view+json": {
       "model_id": "249315081ad14b5a837cd57b13262e9d",
       "version_major": 2,
       "version_minor": 0
      },
      "text/plain": [
       "Predicting:   0%|          | 0/254 [00:00<?, ?it/s]"
      ]
     },
     "metadata": {},
     "output_type": "display_data"
    },
    {
     "name": "stderr",
     "output_type": "stream",
     "text": [
      "2024-11-22 22:21:51.890746: I tensorflow/core/common_runtime/executor.cc:1197] [/device:CPU:0] (DEBUG INFO) Executor start aborting (this does not indicate an error and you can ignore this message): INVALID_ARGUMENT: You must feed a value for placeholder tensor 'Placeholder/_0' with dtype int32\n",
      "\t [[{{node Placeholder/_0}}]]\n"
     ]
    },
    {
     "name": "stdout",
     "output_type": "stream",
     "text": [
      "Partial AUC: 0.1025\n"
     ]
    }
   ],
   "source": [
    "# Make predictions on the validation set\n",
    "test_loader = TestDataLoader(train_val_img, validation_df4, batch_size=32)\n",
    "\n",
    "test_dataset = tf.data.Dataset.from_generator(\n",
    "    lambda: test_loader,\n",
    "    output_signature=(\n",
    "        tf.TensorSpec(shape=(None, 128, 128, 3), dtype=tf.float32)\n",
    "    )\n",
    ")\n",
    "\n",
    "# Estimate the number of batches in the test dataset\n",
    "num_batches = len(test_loader)\n",
    "\n",
    "# Wrap the predictions call with tqdm\n",
    "predictions = []\n",
    "for batch in tqdm(test_dataset, total=num_batches, desc=\"Predicting\"):\n",
    "    batch_preds = model4.predict(batch, verbose=0)\n",
    "    predictions.append(batch_preds)\n",
    "\n",
    "# Convert predictions to a single numpy array\n",
    "predictions = np.concatenate(predictions, axis=0)\n",
    "\n",
    "# Calculate the partial AUC\n",
    "partial_auc = partial_auc_metric(validation_df4['target'].values, predictions)\n",
    "print(f\"Partial AUC: {partial_auc:.4f}\")"
   ]
  },
  {
   "cell_type": "code",
   "execution_count": 35,
   "metadata": {},
   "outputs": [],
   "source": [
    "# Add predictions to the validation DataFrame\n",
    "validation_df4['cnn_confidence'] = predictions"
   ]
  },
  {
   "cell_type": "markdown",
   "metadata": {},
   "source": [
    "# Phase 5 (OOF f=4)"
   ]
  },
  {
   "cell_type": "code",
   "execution_count": 36,
   "metadata": {},
   "outputs": [
    {
     "name": "stdout",
     "output_type": "stream",
     "text": [
      "Class Distribution in Training Data:\n"
     ]
    },
    {
     "data": {
      "text/plain": [
       "target\n",
       "0    33038\n",
       "1     3161\n",
       "Name: count, dtype: int64"
      ]
     },
     "metadata": {},
     "output_type": "display_data"
    },
    {
     "name": "stdout",
     "output_type": "stream",
     "text": [
      "Class Distribution in Validation Data:\n"
     ]
    },
    {
     "data": {
      "text/plain": [
       "target\n",
       "0    7029\n",
       "1     769\n",
       "Name: count, dtype: int64"
      ]
     },
     "metadata": {},
     "output_type": "display_data"
    }
   ],
   "source": [
    "# Perform K-Fold, Setting f=4\n",
    "f = 4\n",
    "training_df5, validation_df5 = stratified_group_k_fold(train_metadata_sample, N_FOLDS, RANDOM_SEED, f)\n",
    "\n",
    "# Class Distribution in Training and Validation Data\n",
    "print('Class Distribution in Training Data:')\n",
    "display(training_df5['target'].value_counts())\n",
    "\n",
    "print('Class Distribution in Validation Data:')\n",
    "display(validation_df5['target'].value_counts())"
   ]
  },
  {
   "cell_type": "code",
   "execution_count": 37,
   "metadata": {},
   "outputs": [],
   "source": [
    "# Define the data loaders\n",
    "train_loader = TrainDataLoader(train_val_img, training_df5, training_df5[training_df5['target'] == 0].index, \n",
    "                                training_df5[training_df5['target'] == 1].index, batch_size=32, augment=True)\n",
    "\n",
    "val_loader = ValidationDataLoader(train_val_img, validation_df5, batch_size=32, min_positive_samples=5)\n",
    "\n",
    "# Define training and validation datasets\n",
    "train_dataset = tf.data.Dataset.from_generator(\n",
    "    lambda: train_loader,\n",
    "    output_signature=(\n",
    "        tf.TensorSpec(shape=(32, 128, 128, 3), dtype=tf.float32),  # Adjust shape based on batch size and image size\n",
    "        tf.TensorSpec(shape=(32,), dtype=tf.int32)\n",
    "    )\n",
    ")\n",
    "\n",
    "val_dataset = tf.data.Dataset.from_generator(\n",
    "    lambda: val_loader,\n",
    "    output_signature=(\n",
    "        tf.TensorSpec(shape=(32, 128, 128, 3), dtype=tf.float32),\n",
    "        tf.TensorSpec(shape=(32,), dtype=tf.int32)\n",
    "    )\n",
    ")"
   ]
  },
  {
   "cell_type": "code",
   "execution_count": 38,
   "metadata": {},
   "outputs": [],
   "source": [
    "# Build the model\n",
    "model5 = build_model()\n",
    "\n",
    "# Define Learning Rate Scheduler\n",
    "initial_learning_rate = 1e-3\n",
    "steps_per_epoch = len(train_loader)  # Total number of batches in the training set\n",
    "\n",
    "lr_schedule = get_lr_scheduler(initial_learning_rate, steps_per_epoch, epochs_per_restart=5)\n",
    "optimizer = tf.keras.optimizers.legacy.Adam(learning_rate=lr_schedule)\n",
    "\n",
    "# Define the checkpoint callback\n",
    "checkpoint_callback = ModelCheckpoint(\n",
    "    filepath='Fold5/model_{epoch:02d}.h5',  # Save a new file for each epoch\n",
    "    save_weights_only=False,      # Save the entire model\n",
    "    save_best_only=True,        # Save only the best model\n",
    "    monitor='val_partial_auc_metric',  # Use the custom validation AUC metric\n",
    "    mode='max',                 # Maximizing the AUC\n",
    "    verbose=0\n",
    ")\n",
    "\n",
    "# Define the early stopping callback based on validation partial AUC\n",
    "early_stopping_callback = EarlyStopping(\n",
    "    monitor='val_partial_auc_metric',  # Monitor the custom validation AUC metric\n",
    "    patience=4,                        # Number of epochs with no improvement before stopping\n",
    "    mode='max',                        # Maximize the AUC\n",
    "    min_delta=0.001,                   # Minimum change in the monitored quantity\n",
    "    restore_best_weights=True,         # Restore the best weights after stopping\n",
    "    verbose=1\n",
    ")\n",
    "\n",
    "# Compile the model\n",
    "model5.compile(\n",
    "    optimizer=optimizer,\n",
    "    loss='binary_crossentropy',\n",
    "    metrics=['accuracy', partial_auc_metric]\n",
    ")\n",
    "\n",
    "# Define callbacks\n",
    "callbacks = [checkpoint_callback, early_stopping_callback] "
   ]
  },
  {
   "cell_type": "code",
   "execution_count": 171,
   "metadata": {},
   "outputs": [
    {
     "name": "stdout",
     "output_type": "stream",
     "text": [
      "Epoch 1/30\n"
     ]
    },
    {
     "name": "stderr",
     "output_type": "stream",
     "text": [
      "2024-11-12 00:28:08.336935: I tensorflow/core/common_runtime/executor.cc:1197] [/device:CPU:0] (DEBUG INFO) Executor start aborting (this does not indicate an error and you can ignore this message): INVALID_ARGUMENT: You must feed a value for placeholder tensor 'Placeholder/_0' with dtype int32\n",
      "\t [[{{node Placeholder/_0}}]]\n"
     ]
    },
    {
     "name": "stdout",
     "output_type": "stream",
     "text": [
      "2064/2064 [==============================] - ETA: 0s - loss: 0.4247 - accuracy: 0.8071 - partial_auc_metric: 0.1309"
     ]
    },
    {
     "name": "stderr",
     "output_type": "stream",
     "text": [
      "2024-11-12 00:32:40.188540: I tensorflow/core/common_runtime/executor.cc:1197] [/device:CPU:0] (DEBUG INFO) Executor start aborting (this does not indicate an error and you can ignore this message): INVALID_ARGUMENT: You must feed a value for placeholder tensor 'Placeholder/_0' with dtype int32\n",
      "\t [[{{node Placeholder/_0}}]]\n"
     ]
    },
    {
     "name": "stdout",
     "output_type": "stream",
     "text": [
      "2064/2064 [==============================] - 293s 140ms/step - loss: 0.4247 - accuracy: 0.8071 - partial_auc_metric: 0.1309 - val_loss: 0.3394 - val_accuracy: 0.8589 - val_partial_auc_metric: 0.1162\n",
      "Epoch 2/30\n",
      "2064/2064 [==============================] - 293s 142ms/step - loss: 0.3463 - accuracy: 0.8460 - partial_auc_metric: 0.1501 - val_loss: 0.4012 - val_accuracy: 0.8162 - val_partial_auc_metric: 0.1199\n",
      "Epoch 3/30\n",
      "2064/2064 [==============================] - 293s 142ms/step - loss: 0.3112 - accuracy: 0.8654 - partial_auc_metric: 0.1585 - val_loss: 0.3579 - val_accuracy: 0.8562 - val_partial_auc_metric: 0.1161\n",
      "Epoch 4/30\n",
      "2064/2064 [==============================] - 300s 145ms/step - loss: 0.2787 - accuracy: 0.8819 - partial_auc_metric: 0.1656 - val_loss: 0.3749 - val_accuracy: 0.8651 - val_partial_auc_metric: 0.1122\n",
      "Epoch 5/30\n",
      "2064/2064 [==============================] - 301s 146ms/step - loss: 0.2629 - accuracy: 0.8889 - partial_auc_metric: 0.1691 - val_loss: 0.3824 - val_accuracy: 0.8607 - val_partial_auc_metric: 0.1162\n",
      "Epoch 6/30\n",
      "2064/2064 [==============================] - ETA: 0s - loss: 0.3096 - accuracy: 0.8653 - partial_auc_metric: 0.1589Restoring model weights from the end of the best epoch: 2.\n",
      "2064/2064 [==============================] - 296s 144ms/step - loss: 0.3096 - accuracy: 0.8653 - partial_auc_metric: 0.1589 - val_loss: 0.3696 - val_accuracy: 0.8702 - val_partial_auc_metric: 0.1143\n",
      "Epoch 6: early stopping\n"
     ]
    }
   ],
   "source": [
    "# Train the model\n",
    "history1 = model5.fit(\n",
    "    train_dataset,\n",
    "    validation_data=val_dataset,\n",
    "    epochs=30,\n",
    "    steps_per_epoch=len(train_loader),\n",
    "    validation_steps=len(val_loader),\n",
    "    callbacks=callbacks\n",
    "    )"
   ]
  },
  {
   "cell_type": "code",
   "execution_count": 172,
   "metadata": {},
   "outputs": [],
   "source": [
    "# Save the training history\n",
    "for key in fold5_histories.keys():\n",
    "    fold5_histories[key].extend(history1.history[key])"
   ]
  },
  {
   "cell_type": "code",
   "execution_count": 173,
   "metadata": {},
   "outputs": [],
   "source": [
    "# Unfreeze the last 30 layers of the EfficientNet base model\n",
    "for layer in model5.layers[0].layers[-30:]:\n",
    "    layer.trainable = True\n",
    "    if hasattr(layer, 'kernel_regularizer'):\n",
    "        layer.kernel_regularizer = l2(1e-5)\n",
    "\n",
    "# Updated Learning Rate Scheduler for Fine-Tuning\n",
    "initial_learning_rate = 5e-5  # Lower than the initial phase\n",
    "epochs_per_restart = 5  # Shorter restart cycle\n",
    "\n",
    "lr_schedule = get_lr_scheduler(initial_learning_rate, steps_per_epoch, epochs_per_restart)\n",
    "\n",
    "# Update optimizer with new learning rate\n",
    "optimizer = tf.keras.optimizers.legacy.Adam(learning_rate=lr_schedule)\n",
    "\n",
    "# Compile the model again with a lower learning rate for fine-tuning\n",
    "model5.compile(optimizer=optimizer, \n",
    "              loss='binary_crossentropy',\n",
    "              metrics=['accuracy', partial_auc_metric])"
   ]
  },
  {
   "cell_type": "code",
   "execution_count": 174,
   "metadata": {},
   "outputs": [
    {
     "name": "stdout",
     "output_type": "stream",
     "text": [
      "Epoch 3/30\n",
      "2064/2064 [==============================] - 262s 126ms/step - loss: 0.4720 - accuracy: 0.7807 - partial_auc_metric: 0.1181 - val_loss: 0.3928 - val_accuracy: 0.8265 - val_partial_auc_metric: 0.1170\n",
      "Epoch 4/30\n",
      "2064/2064 [==============================] - 286s 139ms/step - loss: 0.4132 - accuracy: 0.8100 - partial_auc_metric: 0.1314 - val_loss: 0.3961 - val_accuracy: 0.8191 - val_partial_auc_metric: 0.1170\n",
      "Epoch 5/30\n",
      "2064/2064 [==============================] - 291s 141ms/step - loss: 0.3953 - accuracy: 0.8216 - partial_auc_metric: 0.1364 - val_loss: 0.4092 - val_accuracy: 0.8140 - val_partial_auc_metric: 0.1176\n",
      "Epoch 6/30\n",
      "2064/2064 [==============================] - 296s 143ms/step - loss: 0.3826 - accuracy: 0.8275 - partial_auc_metric: 0.1401 - val_loss: 0.4342 - val_accuracy: 0.8135 - val_partial_auc_metric: 0.1080\n",
      "Epoch 7/30\n",
      "2064/2064 [==============================] - ETA: 0s - loss: 0.3849 - accuracy: 0.8270 - partial_auc_metric: 0.1404Restoring model weights from the end of the best epoch: 3.\n",
      "2064/2064 [==============================] - 302s 146ms/step - loss: 0.3849 - accuracy: 0.8270 - partial_auc_metric: 0.1404 - val_loss: 0.4068 - val_accuracy: 0.8182 - val_partial_auc_metric: 0.1127\n",
      "Epoch 7: early stopping\n"
     ]
    }
   ],
   "source": [
    "# Train the model\n",
    "history2 = model5.fit(\n",
    "    train_dataset,\n",
    "    validation_data=val_dataset,\n",
    "    epochs=30,\n",
    "    initial_epoch=2 ,  # Start from the early stopping epoch\n",
    "    steps_per_epoch=len(train_loader),\n",
    "    validation_steps=len(val_loader),\n",
    "    callbacks=callbacks\n",
    "    )"
   ]
  },
  {
   "cell_type": "code",
   "execution_count": 176,
   "metadata": {},
   "outputs": [],
   "source": [
    "# Save the training history\n",
    "for key in fold5_histories.keys():\n",
    "    fold5_histories[key].extend(history2.history[key])"
   ]
  },
  {
   "cell_type": "code",
   "execution_count": 179,
   "metadata": {},
   "outputs": [],
   "source": [
    "# Update learning rate and scheduler\n",
    "initial_learning_rate = 1e-6  # Reduced learning rate\n",
    "epochs_per_restart = 3        # Shorter restart cycle for fine-tuning\n",
    "lr_schedule = get_lr_scheduler(initial_learning_rate, steps_per_epoch, epochs_per_restart)\n",
    "\n",
    "# Update optimizer with new learning rate\n",
    "optimizer = tf.keras.optimizers.legacy.Adam(learning_rate=lr_schedule)\n",
    "\n",
    "# Unfreeze additional layers\n",
    "for layer in model5.layers[0].layers[-50:-30]:  # Unfreeze 50 more layers as an example\n",
    "    layer.trainable = True\n",
    "    if hasattr(layer, 'kernel_regularizer'):\n",
    "        layer.kernel_regularizer = l2(1e-4)\n",
    "\n",
    "# Compile and fit the model for Phase 3\n",
    "model5.compile(optimizer=optimizer, loss='binary_crossentropy', metrics=['accuracy', partial_auc_metric])"
   ]
  },
  {
   "cell_type": "code",
   "execution_count": 180,
   "metadata": {},
   "outputs": [
    {
     "name": "stdout",
     "output_type": "stream",
     "text": [
      "Epoch 4/30\n",
      "2064/2064 [==============================] - 295s 141ms/step - loss: 0.4459 - accuracy: 0.7899 - partial_auc_metric: 0.1227 - val_loss: 0.4555 - val_accuracy: 0.7811 - val_partial_auc_metric: 0.1054\n",
      "Epoch 5/30\n",
      "2064/2064 [==============================] - 297s 144ms/step - loss: 0.4441 - accuracy: 0.7912 - partial_auc_metric: 0.1228 - val_loss: 0.4545 - val_accuracy: 0.7807 - val_partial_auc_metric: 0.1046\n",
      "Epoch 6/30\n",
      "2064/2064 [==============================] - 310s 150ms/step - loss: 0.4436 - accuracy: 0.7929 - partial_auc_metric: 0.1232 - val_loss: 0.4548 - val_accuracy: 0.7774 - val_partial_auc_metric: 0.1072\n",
      "Epoch 7/30\n",
      "2064/2064 [==============================] - 310s 150ms/step - loss: 0.4420 - accuracy: 0.7940 - partial_auc_metric: 0.1229 - val_loss: 0.4556 - val_accuracy: 0.7764 - val_partial_auc_metric: 0.1024\n",
      "Epoch 8/30\n",
      "2064/2064 [==============================] - 311s 151ms/step - loss: 0.4397 - accuracy: 0.7941 - partial_auc_metric: 0.1246 - val_loss: 0.4487 - val_accuracy: 0.7803 - val_partial_auc_metric: 0.1081\n",
      "Epoch 9/30\n",
      "2064/2064 [==============================] - 310s 150ms/step - loss: 0.4422 - accuracy: 0.7929 - partial_auc_metric: 0.1228 - val_loss: 0.4381 - val_accuracy: 0.7858 - val_partial_auc_metric: 0.1107\n",
      "Epoch 10/30\n",
      "2064/2064 [==============================] - 312s 151ms/step - loss: 0.4393 - accuracy: 0.7951 - partial_auc_metric: 0.1243 - val_loss: 0.4326 - val_accuracy: 0.7946 - val_partial_auc_metric: 0.1099\n",
      "Epoch 11/30\n",
      "2064/2064 [==============================] - 279s 135ms/step - loss: 0.4427 - accuracy: 0.7929 - partial_auc_metric: 0.1236 - val_loss: 0.4391 - val_accuracy: 0.7919 - val_partial_auc_metric: 0.1083\n",
      "Epoch 12/30\n",
      "2064/2064 [==============================] - 293s 142ms/step - loss: 0.4408 - accuracy: 0.7946 - partial_auc_metric: 0.1237 - val_loss: 0.4464 - val_accuracy: 0.7948 - val_partial_auc_metric: 0.1072\n",
      "Epoch 13/30\n",
      "2064/2064 [==============================] - ETA: 0s - loss: 0.4379 - accuracy: 0.7949 - partial_auc_metric: 0.1242Restoring model weights from the end of the best epoch: 9.\n",
      "2064/2064 [==============================] - 289s 140ms/step - loss: 0.4379 - accuracy: 0.7949 - partial_auc_metric: 0.1242 - val_loss: 0.4462 - val_accuracy: 0.7933 - val_partial_auc_metric: 0.1043\n",
      "Epoch 13: early stopping\n"
     ]
    }
   ],
   "source": [
    "# Train the model\n",
    "history3 = model5.fit(\n",
    "    train_dataset,\n",
    "    validation_data=val_dataset,\n",
    "    epochs=30,\n",
    "    initial_epoch=3,  # Start from the early stopping epoch\n",
    "    steps_per_epoch=len(train_loader),\n",
    "    validation_steps=len(val_loader),\n",
    "    callbacks=callbacks\n",
    "    )"
   ]
  },
  {
   "cell_type": "code",
   "execution_count": 181,
   "metadata": {},
   "outputs": [],
   "source": [
    "# Save the training history\n",
    "for key in fold5_histories.keys():\n",
    "    fold5_histories[key].extend(history3.history[key])"
   ]
  },
  {
   "cell_type": "code",
   "execution_count": 182,
   "metadata": {},
   "outputs": [
    {
     "data": {
      "text/plain": [
       "(6, 5, 10)"
      ]
     },
     "execution_count": 182,
     "metadata": {},
     "output_type": "execute_result"
    }
   ],
   "source": [
    "len(history1.history['accuracy']), len(history2.history['accuracy']), len(history3.history['accuracy'])"
   ]
  },
  {
   "cell_type": "code",
   "execution_count": 190,
   "metadata": {},
   "outputs": [
    {
     "data": {
      "image/png": "[encoded data removed]",
      "text/plain": [
       "<Figure size 1400x600 with 2 Axes>"
      ]
     },
     "metadata": {},
     "output_type": "display_data"
    }
   ],
   "source": [
    "# Plot the training history\n",
    "plt.figure(figsize=(14, 6))\n",
    "\n",
    "plt.subplot(1, 2, 1)\n",
    "plt.plot(fold5_histories['accuracy'], label='accuracy')\n",
    "plt.plot(fold5_histories['val_accuracy'], label='val_accuracy')\n",
    "plt.vlines([6, 11], 0.5, 1, colors='r', linestyles='dashed', label='Unfreeze Layers')\n",
    "\n",
    "plt.title('Training and Validation Accuracy')\n",
    "plt.xlabel('Epoch')\n",
    "plt.ylabel('Accuracy')\n",
    "plt.legend()\n",
    "\n",
    "plt.subplot(1, 2, 2)\n",
    "plt.plot(fold5_histories['partial_auc_metric'], label='partial_auc_metric')\n",
    "plt.plot(fold5_histories['val_partial_auc_metric'], label='val_partial_auc_metric')\n",
    "plt.vlines([6, 11], 0.1, 0.2, colors='r', linestyles='dashed', label='Unfreeze Layers')\n",
    "plt.title('Training and Validation Partial AUC')\n",
    "plt.xlabel('Epoch')\n",
    "plt.ylabel('Partial AUC')\n",
    "plt.legend()\n",
    "\n",
    "plt.tight_layout()\n",
    "plt.savefig('Fold5/training_history.png')"
   ]
  },
  {
   "cell_type": "code",
   "execution_count": 39,
   "metadata": {},
   "outputs": [],
   "source": [
    "# Load the best model\n",
    "model5 = tf.keras.models.load_model('Fold5/model_02.h5', custom_objects={'partial_auc_metric': partial_auc_metric})"
   ]
  },
  {
   "cell_type": "code",
   "execution_count": 40,
   "metadata": {},
   "outputs": [
    {
     "data": {
      "application/vnd.jupyter.widget-view+json": {
       "model_id": "5deec9b5fee443bba45717e1783db839",
       "version_major": 2,
       "version_minor": 0
      },
      "text/plain": [
       "Predicting:   0%|          | 0/244 [00:00<?, ?it/s]"
      ]
     },
     "metadata": {},
     "output_type": "display_data"
    },
    {
     "name": "stderr",
     "output_type": "stream",
     "text": [
      "2024-11-22 22:22:29.273285: I tensorflow/core/common_runtime/executor.cc:1197] [/device:CPU:0] (DEBUG INFO) Executor start aborting (this does not indicate an error and you can ignore this message): INVALID_ARGUMENT: You must feed a value for placeholder tensor 'Placeholder/_0' with dtype int32\n",
      "\t [[{{node Placeholder/_0}}]]\n"
     ]
    },
    {
     "name": "stdout",
     "output_type": "stream",
     "text": [
      "Partial AUC: 0.1024\n"
     ]
    }
   ],
   "source": [
    "# Make predictions on the validation set\n",
    "test_loader = TestDataLoader(train_val_img, validation_df5, batch_size=32)\n",
    "\n",
    "test_dataset = tf.data.Dataset.from_generator(\n",
    "    lambda: test_loader,\n",
    "    output_signature=(\n",
    "        tf.TensorSpec(shape=(None, 128, 128, 3), dtype=tf.float32)\n",
    "    )\n",
    ")\n",
    "\n",
    "# Estimate the number of batches in the test dataset\n",
    "num_batches = len(test_loader)\n",
    "\n",
    "# Wrap the predictions call with tqdm\n",
    "predictions = []\n",
    "for batch in tqdm(test_dataset, total=num_batches, desc=\"Predicting\"):\n",
    "    batch_preds = model5.predict(batch, verbose=0)\n",
    "    predictions.append(batch_preds)\n",
    "\n",
    "# Convert predictions to a single numpy array\n",
    "predictions = np.concatenate(predictions, axis=0)\n",
    "\n",
    "# Calculate the partial AUC\n",
    "partial_auc = partial_auc_metric(validation_df5['target'].values, predictions)\n",
    "print(f\"Partial AUC: {partial_auc:.4f}\")"
   ]
  },
  {
   "cell_type": "code",
   "execution_count": 41,
   "metadata": {},
   "outputs": [],
   "source": [
    "# Add predictions to the validation DataFrame\n",
    "validation_df5['cnn_confidence'] = predictions"
   ]
  },
  {
   "cell_type": "code",
   "execution_count": 42,
   "metadata": {},
   "outputs": [],
   "source": [
    "# Combine the validation DataFrames\n",
    "validation_df = pd.concat([validation_df, validation_df2, validation_df3, validation_df4, validation_df5], axis=0)\n",
    "\n",
    "# Save the validation DataFrame\n",
    "validation_df.to_csv('metadata_with_cnn.csv', index=False)"
   ]
  }
 ],
 "metadata": {
  "kernelspec": {
   "display_name": "tf",
   "language": "python",
   "name": "python3"
  },
  "language_info": {
   "codemirror_mode": {
    "name": "ipython",
    "version": 3
   },
   "file_extension": ".py",
   "mimetype": "text/x-python",
   "name": "python",
   "nbconvert_exporter": "python",
   "pygments_lexer": "ipython3",
   "version": "3.11.5"
  }
 },
 "nbformat": 4,
 "nbformat_minor": 2
}
