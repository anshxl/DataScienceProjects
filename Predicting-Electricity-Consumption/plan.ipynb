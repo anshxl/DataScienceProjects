{
 "cells": [
  {
   "cell_type": "markdown",
   "metadata": {},
   "source": [
    "### Plan of Action Summary:\n",
    "\n",
    "- **Initial Modeling Approach:**\n",
    "  - Start with ARIMA for individual buildings to establish a baseline.\n",
    "  - Analyze data stationarity and seasonality to tune ARIMA parameters.\n",
    "\n",
    "- **Feature Engineering:**\n",
    "  - Categorize buildings (e.g., classrooms, dorms, labs).\n",
    "  - Incorporate external factors such as weather data (scrape monthly temperature, humidity, etc.).\n",
    "  - Generate lag features (previous month’s consumption, rolling averages).\n",
    "  - Add calendar-based features (semester start/end dates, holidays).\n",
    "\n",
    "- **Data Processing:**\n",
    "  - Organize scattered data files efficiently.\n",
    "  - Handle missing values and inconsistencies in electricity usage and cost data.\n",
    "  - Investigate the granularity and consistency of timestamps across files.\n",
    "\n",
    "- **Model Selection and Training:**\n",
    "  - Implement gradient-boosting models (LightGBM, XGBoost) to capture complex relationships.\n",
    "  - Experiment with per-building and global models.\n",
    "  - Evaluate performance using RMSE, MAE, and MAPE.\n",
    "\n",
    "- **Scalability Considerations:**\n",
    "  - Explore using PySpark/Dask for handling large datasets.\n",
    "  - Assess computational resource needs for training and inference.\n",
    "\n",
    "---\n",
    "\n",
    "### Questions\n",
    "\n",
    "1. **Data Understanding and Availability:**\n",
    "   - Do all buildings have complete and consistent data from 2013 onwards?\n",
    "   - Are there any known data quality issues (e.g., missing months, anomalies)?\n",
    "   - What metadata is available for buildings (e.g., type, occupancy patterns)?\n",
    "\n",
    "2. **External Data Integration:**\n",
    "   - What historical weather data sources can we reliably scrape and use?\n",
    "   - Are there any other external factors we should consider (e.g., campus events, maintenance schedules)?\n",
    "\n",
    "3. **Modeling Strategy:**\n",
    "   - Should we prioritize building-specific models or a generalizable model across all buildings?\n",
    "   - What forecasting horizon is most useful for stakeholders (e.g., monthly, quarterly)?\n",
    "\n",
    "4. **Computational Resources:**\n",
    "   - Are there limitations on storage or processing power for model training?\n",
    "   - Should we consider cloud-based solutions for scalability?\n",
    "\n",
    "5. **Stakeholder Expectations:**\n",
    "   - What are the key deliverables and timeline expectations for the project?\n",
    "   - How will the forecasting outputs be used for decision-making?\n",
    "\n",
    "Let me know if you'd like to refine or add anything to this."
   ]
  }
 ],
 "metadata": {
  "language_info": {
   "name": "python"
  }
 },
 "nbformat": 4,
 "nbformat_minor": 2
}
